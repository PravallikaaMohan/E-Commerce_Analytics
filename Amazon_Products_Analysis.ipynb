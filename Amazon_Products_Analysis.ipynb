{
  "nbformat": 4,
  "nbformat_minor": 0,
  "metadata": {
    "colab": {
      "provenance": [],
      "authorship_tag": "ABX9TyOgzDeGwz+uMmcNQOt+3Uf9",
      "include_colab_link": true
    },
    "kernelspec": {
      "name": "python3",
      "display_name": "Python 3"
    },
    "language_info": {
      "name": "python"
    }
  },
  "cells": [
    {
      "cell_type": "markdown",
      "metadata": {
        "id": "view-in-github",
        "colab_type": "text"
      },
      "source": [
        "<a href=\"https://colab.research.google.com/github/PravallikaaMohan/E-Commerce_Analytics/blob/main/Amazon_Products_Analysis.ipynb\" target=\"_parent\"><img src=\"https://colab.research.google.com/assets/colab-badge.svg\" alt=\"Open In Colab\"/></a>"
      ]
    },
    {
      "cell_type": "markdown",
      "source": [
        "# **Amazon Products Analysis**"
      ],
      "metadata": {
        "id": "58JY7-29ASGJ"
      }
    },
    {
      "cell_type": "markdown",
      "source": [
        "# Importing Libraries"
      ],
      "metadata": {
        "id": "0wauzUAzH7me"
      }
    },
    {
      "cell_type": "code",
      "source": [
        "import pandas as pd\n",
        "import numpy as np"
      ],
      "metadata": {
        "id": "SlZZ6yCkIBEa"
      },
      "execution_count": 1,
      "outputs": []
    },
    {
      "cell_type": "markdown",
      "source": [
        "# Uploading the Dataset"
      ],
      "metadata": {
        "id": "ac4Zz3F6KvaD"
      }
    },
    {
      "cell_type": "code",
      "source": [
        "from google.colab import drive\n",
        "drive.mount('/content/drive')"
      ],
      "metadata": {
        "colab": {
          "base_uri": "https://localhost:8080/"
        },
        "id": "Jw_8kCKupBho",
        "outputId": "fc083542-300f-49d7-a3a4-a4393d2da506"
      },
      "execution_count": 2,
      "outputs": [
        {
          "output_type": "stream",
          "name": "stdout",
          "text": [
            "Mounted at /content/drive\n"
          ]
        }
      ]
    },
    {
      "cell_type": "code",
      "source": [
        "# read the csv file\n",
        "original_df = pd.read_csv(\"/content/drive/MyDrive/Amazon-Products.csv\",on_bad_lines='skip')"
      ],
      "metadata": {
        "id": "xv3WJULKTd8a"
      },
      "execution_count": 3,
      "outputs": []
    },
    {
      "cell_type": "code",
      "source": [
        "#create a copy of the data\n",
        "df = original_df.copy()\n",
        "\n",
        "#quick look of the data\n",
        "df.head(20)"
      ],
      "metadata": {
        "colab": {
          "base_uri": "https://localhost:8080/",
          "height": 1000
        },
        "id": "R1OOk-_OUFSz",
        "outputId": "0a175593-5162-49f7-cda5-627e9dfb1d95"
      },
      "execution_count": 4,
      "outputs": [
        {
          "output_type": "execute_result",
          "data": {
            "text/plain": [
              "    Unnamed: 0                                               name  \\\n",
              "0            0  Lloyd 1.5 Ton 3 Star Inverter Split Ac (5 In 1...   \n",
              "1            1  LG 1.5 Ton 5 Star AI DUAL Inverter Split AC (C...   \n",
              "2            2  LG 1 Ton 4 Star Ai Dual Inverter Split Ac (Cop...   \n",
              "3            3  LG 1.5 Ton 3 Star AI DUAL Inverter Split AC (C...   \n",
              "4            4  Carrier 1.5 Ton 3 Star Inverter Split AC (Copp...   \n",
              "5            5  Voltas 1.4 Ton 3 Star Inverter Split AC(Copper...   \n",
              "6            6  Lloyd 1.0 Ton 3 Star Inverter Split Ac (5 In 1...   \n",
              "7            7  Lloyd 1.5 Ton 5 Star Inverter Split Ac (5 In 1...   \n",
              "8            8  Carrier 1 Ton 3 Star AI Flexicool Inverter Spl...   \n",
              "9            9  Voltas 1.5 Ton, 5 Star, Inverter Split AC(Copp...   \n",
              "10          10  Daikin 1 Ton 3 Star Inverter Split AC (Copper,...   \n",
              "11          11  Daikin 1.5 Ton 5 Star Inverter Split AC (Coppe...   \n",
              "12          12  Panasonic 1.5 Ton 5 Star Wi-Fi Inverter Smart ...   \n",
              "13          13  Carrier 1.5 Ton 5 Star AI Flexicool Inverter S...   \n",
              "14          14  Whirlpool 1.5 Ton 3 Star, Flexicool Inverter S...   \n",
              "15          15  Samsung 1.5 Ton 3 Star Inverter Split AC (Copp...   \n",
              "16          16  Lloyd 1.0 Ton 5 Star Inverter Split Ac (5 In 1...   \n",
              "17          17  Godrej 1.5 Ton 5 Star 5-In-1 Convertible, Inve...   \n",
              "18          18  Godrej 1 Ton 3 Star Inverter Split Ac Model 20...   \n",
              "19          19  Daikin 1.5 Ton 3 Star Inverter Split AC (Coppe...   \n",
              "\n",
              "   main_category      sub_category  \\\n",
              "0     appliances  Air Conditioners   \n",
              "1     appliances  Air Conditioners   \n",
              "2     appliances  Air Conditioners   \n",
              "3     appliances  Air Conditioners   \n",
              "4     appliances  Air Conditioners   \n",
              "5     appliances  Air Conditioners   \n",
              "6     appliances  Air Conditioners   \n",
              "7     appliances  Air Conditioners   \n",
              "8     appliances  Air Conditioners   \n",
              "9     appliances  Air Conditioners   \n",
              "10    appliances  Air Conditioners   \n",
              "11    appliances  Air Conditioners   \n",
              "12    appliances  Air Conditioners   \n",
              "13    appliances  Air Conditioners   \n",
              "14    appliances  Air Conditioners   \n",
              "15    appliances  Air Conditioners   \n",
              "16    appliances  Air Conditioners   \n",
              "17    appliances  Air Conditioners   \n",
              "18    appliances  Air Conditioners   \n",
              "19    appliances  Air Conditioners   \n",
              "\n",
              "                                                image  \\\n",
              "0   https://m.media-amazon.com/images/I/31UISB90sY...   \n",
              "1   https://m.media-amazon.com/images/I/51JFb7FctD...   \n",
              "2   https://m.media-amazon.com/images/I/51JFb7FctD...   \n",
              "3   https://m.media-amazon.com/images/I/51JFb7FctD...   \n",
              "4   https://m.media-amazon.com/images/I/41lrtqXPiW...   \n",
              "5   https://m.media-amazon.com/images/I/41TuyxwZ9m...   \n",
              "6   https://m.media-amazon.com/images/I/31IXlxIPsO...   \n",
              "7   https://m.media-amazon.com/images/I/31IXlxIPsO...   \n",
              "8   https://m.media-amazon.com/images/I/51sTXvsanQ...   \n",
              "9   https://m.media-amazon.com/images/I/51WQ3nWF0v...   \n",
              "10  https://m.media-amazon.com/images/I/51Nff1pJMq...   \n",
              "11  https://m.media-amazon.com/images/I/41BgAG0qRa...   \n",
              "12  https://m.media-amazon.com/images/I/61ZzcguzB1...   \n",
              "13  https://m.media-amazon.com/images/I/61JtwWcAco...   \n",
              "14  https://m.media-amazon.com/images/I/51vyGNOskV...   \n",
              "15  https://m.media-amazon.com/images/I/51dPET0mdF...   \n",
              "16  https://m.media-amazon.com/images/I/31IXlxIPsO...   \n",
              "17  https://m.media-amazon.com/images/I/51HEnpDyVp...   \n",
              "18  https://m.media-amazon.com/images/I/41kGqW4aeM...   \n",
              "19  https://m.media-amazon.com/images/I/41O8pnwGG+...   \n",
              "\n",
              "                                                 link ratings no_of_ratings  \\\n",
              "0   https://www.amazon.in/Lloyd-Inverter-Convertib...     4.2         2,255   \n",
              "1   https://www.amazon.in/LG-Convertible-Anti-Viru...     4.2         2,948   \n",
              "2   https://www.amazon.in/LG-Inverter-Convertible-...     4.2         1,206   \n",
              "3   https://www.amazon.in/LG-Convertible-Anti-Viru...       4            69   \n",
              "4   https://www.amazon.in/Carrier-Inverter-Split-C...     4.1           630   \n",
              "5   https://www.amazon.in/Voltas-Adjustable-173V-V...       4         1,666   \n",
              "6   https://www.amazon.in/Lloyd-Inverter-Convertib...     4.2         1,097   \n",
              "7   https://www.amazon.in/Lloyd-Inverter-Convertib...     4.3         1,494   \n",
              "8   https://www.amazon.in/Carrier-Flexicool-Invert...     4.1           674   \n",
              "9   https://www.amazon.in/Voltas-Inverter-Split-Co...       4           801   \n",
              "10  https://www.amazon.in/Daikin-Inverter-Display-...     4.2           558   \n",
              "11  https://www.amazon.in/Daikin-Inverter-Copper-F...     4.1           730   \n",
              "12  https://www.amazon.in/Panasonic-Convertible-ad...     4.3         5,073   \n",
              "13  https://www.amazon.in/Carrier-Flexicool-Conver...       4           568   \n",
              "14  https://www.amazon.in/Whirlpool-Flexicool-Inve...     3.9         3,670   \n",
              "15  https://www.amazon.in/Samsung-Inverter-Convert...     3.8           312   \n",
              "16  https://www.amazon.in/Lloyd-Inverter-Convertib...     4.1            88   \n",
              "17  https://www.amazon.in/Godrej-Convertible-1-5T-...     4.1           432   \n",
              "18  https://www.amazon.in/Godrej-Convertible-Split...     3.9           268   \n",
              "19  https://www.amazon.in/Daikin-Inverter-Display-...     3.5             2   \n",
              "\n",
              "   discount_price actual_price  \n",
              "0         ₹32,999      ₹58,990  \n",
              "1         ₹46,490      ₹75,990  \n",
              "2         ₹34,490      ₹61,990  \n",
              "3         ₹37,990      ₹68,990  \n",
              "4         ₹34,490      ₹67,790  \n",
              "5         ₹31,990      ₹70,990  \n",
              "6         ₹29,999      ₹49,990  \n",
              "7         ₹39,990      ₹67,990  \n",
              "8         ₹30,990      ₹58,190  \n",
              "9         ₹37,999      ₹73,990  \n",
              "10        ₹32,990      ₹48,200  \n",
              "11        ₹44,990      ₹67,200  \n",
              "12        ₹45,990      ₹63,400  \n",
              "13        ₹41,999      ₹78,490  \n",
              "14        ₹31,990      ₹62,000  \n",
              "15        ₹35,499      ₹60,990  \n",
              "16        ₹34,000      ₹57,990  \n",
              "17        ₹37,490      ₹54,900  \n",
              "18        ₹29,490      ₹42,900  \n",
              "19        ₹39,499      ₹58,400  "
            ],
            "text/html": [
              "\n",
              "\n",
              "  <div id=\"df-4641b3a8-4515-4fab-b557-0f56f8ebb133\">\n",
              "    <div class=\"colab-df-container\">\n",
              "      <div>\n",
              "<style scoped>\n",
              "    .dataframe tbody tr th:only-of-type {\n",
              "        vertical-align: middle;\n",
              "    }\n",
              "\n",
              "    .dataframe tbody tr th {\n",
              "        vertical-align: top;\n",
              "    }\n",
              "\n",
              "    .dataframe thead th {\n",
              "        text-align: right;\n",
              "    }\n",
              "</style>\n",
              "<table border=\"1\" class=\"dataframe\">\n",
              "  <thead>\n",
              "    <tr style=\"text-align: right;\">\n",
              "      <th></th>\n",
              "      <th>Unnamed: 0</th>\n",
              "      <th>name</th>\n",
              "      <th>main_category</th>\n",
              "      <th>sub_category</th>\n",
              "      <th>image</th>\n",
              "      <th>link</th>\n",
              "      <th>ratings</th>\n",
              "      <th>no_of_ratings</th>\n",
              "      <th>discount_price</th>\n",
              "      <th>actual_price</th>\n",
              "    </tr>\n",
              "  </thead>\n",
              "  <tbody>\n",
              "    <tr>\n",
              "      <th>0</th>\n",
              "      <td>0</td>\n",
              "      <td>Lloyd 1.5 Ton 3 Star Inverter Split Ac (5 In 1...</td>\n",
              "      <td>appliances</td>\n",
              "      <td>Air Conditioners</td>\n",
              "      <td>https://m.media-amazon.com/images/I/31UISB90sY...</td>\n",
              "      <td>https://www.amazon.in/Lloyd-Inverter-Convertib...</td>\n",
              "      <td>4.2</td>\n",
              "      <td>2,255</td>\n",
              "      <td>₹32,999</td>\n",
              "      <td>₹58,990</td>\n",
              "    </tr>\n",
              "    <tr>\n",
              "      <th>1</th>\n",
              "      <td>1</td>\n",
              "      <td>LG 1.5 Ton 5 Star AI DUAL Inverter Split AC (C...</td>\n",
              "      <td>appliances</td>\n",
              "      <td>Air Conditioners</td>\n",
              "      <td>https://m.media-amazon.com/images/I/51JFb7FctD...</td>\n",
              "      <td>https://www.amazon.in/LG-Convertible-Anti-Viru...</td>\n",
              "      <td>4.2</td>\n",
              "      <td>2,948</td>\n",
              "      <td>₹46,490</td>\n",
              "      <td>₹75,990</td>\n",
              "    </tr>\n",
              "    <tr>\n",
              "      <th>2</th>\n",
              "      <td>2</td>\n",
              "      <td>LG 1 Ton 4 Star Ai Dual Inverter Split Ac (Cop...</td>\n",
              "      <td>appliances</td>\n",
              "      <td>Air Conditioners</td>\n",
              "      <td>https://m.media-amazon.com/images/I/51JFb7FctD...</td>\n",
              "      <td>https://www.amazon.in/LG-Inverter-Convertible-...</td>\n",
              "      <td>4.2</td>\n",
              "      <td>1,206</td>\n",
              "      <td>₹34,490</td>\n",
              "      <td>₹61,990</td>\n",
              "    </tr>\n",
              "    <tr>\n",
              "      <th>3</th>\n",
              "      <td>3</td>\n",
              "      <td>LG 1.5 Ton 3 Star AI DUAL Inverter Split AC (C...</td>\n",
              "      <td>appliances</td>\n",
              "      <td>Air Conditioners</td>\n",
              "      <td>https://m.media-amazon.com/images/I/51JFb7FctD...</td>\n",
              "      <td>https://www.amazon.in/LG-Convertible-Anti-Viru...</td>\n",
              "      <td>4</td>\n",
              "      <td>69</td>\n",
              "      <td>₹37,990</td>\n",
              "      <td>₹68,990</td>\n",
              "    </tr>\n",
              "    <tr>\n",
              "      <th>4</th>\n",
              "      <td>4</td>\n",
              "      <td>Carrier 1.5 Ton 3 Star Inverter Split AC (Copp...</td>\n",
              "      <td>appliances</td>\n",
              "      <td>Air Conditioners</td>\n",
              "      <td>https://m.media-amazon.com/images/I/41lrtqXPiW...</td>\n",
              "      <td>https://www.amazon.in/Carrier-Inverter-Split-C...</td>\n",
              "      <td>4.1</td>\n",
              "      <td>630</td>\n",
              "      <td>₹34,490</td>\n",
              "      <td>₹67,790</td>\n",
              "    </tr>\n",
              "    <tr>\n",
              "      <th>5</th>\n",
              "      <td>5</td>\n",
              "      <td>Voltas 1.4 Ton 3 Star Inverter Split AC(Copper...</td>\n",
              "      <td>appliances</td>\n",
              "      <td>Air Conditioners</td>\n",
              "      <td>https://m.media-amazon.com/images/I/41TuyxwZ9m...</td>\n",
              "      <td>https://www.amazon.in/Voltas-Adjustable-173V-V...</td>\n",
              "      <td>4</td>\n",
              "      <td>1,666</td>\n",
              "      <td>₹31,990</td>\n",
              "      <td>₹70,990</td>\n",
              "    </tr>\n",
              "    <tr>\n",
              "      <th>6</th>\n",
              "      <td>6</td>\n",
              "      <td>Lloyd 1.0 Ton 3 Star Inverter Split Ac (5 In 1...</td>\n",
              "      <td>appliances</td>\n",
              "      <td>Air Conditioners</td>\n",
              "      <td>https://m.media-amazon.com/images/I/31IXlxIPsO...</td>\n",
              "      <td>https://www.amazon.in/Lloyd-Inverter-Convertib...</td>\n",
              "      <td>4.2</td>\n",
              "      <td>1,097</td>\n",
              "      <td>₹29,999</td>\n",
              "      <td>₹49,990</td>\n",
              "    </tr>\n",
              "    <tr>\n",
              "      <th>7</th>\n",
              "      <td>7</td>\n",
              "      <td>Lloyd 1.5 Ton 5 Star Inverter Split Ac (5 In 1...</td>\n",
              "      <td>appliances</td>\n",
              "      <td>Air Conditioners</td>\n",
              "      <td>https://m.media-amazon.com/images/I/31IXlxIPsO...</td>\n",
              "      <td>https://www.amazon.in/Lloyd-Inverter-Convertib...</td>\n",
              "      <td>4.3</td>\n",
              "      <td>1,494</td>\n",
              "      <td>₹39,990</td>\n",
              "      <td>₹67,990</td>\n",
              "    </tr>\n",
              "    <tr>\n",
              "      <th>8</th>\n",
              "      <td>8</td>\n",
              "      <td>Carrier 1 Ton 3 Star AI Flexicool Inverter Spl...</td>\n",
              "      <td>appliances</td>\n",
              "      <td>Air Conditioners</td>\n",
              "      <td>https://m.media-amazon.com/images/I/51sTXvsanQ...</td>\n",
              "      <td>https://www.amazon.in/Carrier-Flexicool-Invert...</td>\n",
              "      <td>4.1</td>\n",
              "      <td>674</td>\n",
              "      <td>₹30,990</td>\n",
              "      <td>₹58,190</td>\n",
              "    </tr>\n",
              "    <tr>\n",
              "      <th>9</th>\n",
              "      <td>9</td>\n",
              "      <td>Voltas 1.5 Ton, 5 Star, Inverter Split AC(Copp...</td>\n",
              "      <td>appliances</td>\n",
              "      <td>Air Conditioners</td>\n",
              "      <td>https://m.media-amazon.com/images/I/51WQ3nWF0v...</td>\n",
              "      <td>https://www.amazon.in/Voltas-Inverter-Split-Co...</td>\n",
              "      <td>4</td>\n",
              "      <td>801</td>\n",
              "      <td>₹37,999</td>\n",
              "      <td>₹73,990</td>\n",
              "    </tr>\n",
              "    <tr>\n",
              "      <th>10</th>\n",
              "      <td>10</td>\n",
              "      <td>Daikin 1 Ton 3 Star Inverter Split AC (Copper,...</td>\n",
              "      <td>appliances</td>\n",
              "      <td>Air Conditioners</td>\n",
              "      <td>https://m.media-amazon.com/images/I/51Nff1pJMq...</td>\n",
              "      <td>https://www.amazon.in/Daikin-Inverter-Display-...</td>\n",
              "      <td>4.2</td>\n",
              "      <td>558</td>\n",
              "      <td>₹32,990</td>\n",
              "      <td>₹48,200</td>\n",
              "    </tr>\n",
              "    <tr>\n",
              "      <th>11</th>\n",
              "      <td>11</td>\n",
              "      <td>Daikin 1.5 Ton 5 Star Inverter Split AC (Coppe...</td>\n",
              "      <td>appliances</td>\n",
              "      <td>Air Conditioners</td>\n",
              "      <td>https://m.media-amazon.com/images/I/41BgAG0qRa...</td>\n",
              "      <td>https://www.amazon.in/Daikin-Inverter-Copper-F...</td>\n",
              "      <td>4.1</td>\n",
              "      <td>730</td>\n",
              "      <td>₹44,990</td>\n",
              "      <td>₹67,200</td>\n",
              "    </tr>\n",
              "    <tr>\n",
              "      <th>12</th>\n",
              "      <td>12</td>\n",
              "      <td>Panasonic 1.5 Ton 5 Star Wi-Fi Inverter Smart ...</td>\n",
              "      <td>appliances</td>\n",
              "      <td>Air Conditioners</td>\n",
              "      <td>https://m.media-amazon.com/images/I/61ZzcguzB1...</td>\n",
              "      <td>https://www.amazon.in/Panasonic-Convertible-ad...</td>\n",
              "      <td>4.3</td>\n",
              "      <td>5,073</td>\n",
              "      <td>₹45,990</td>\n",
              "      <td>₹63,400</td>\n",
              "    </tr>\n",
              "    <tr>\n",
              "      <th>13</th>\n",
              "      <td>13</td>\n",
              "      <td>Carrier 1.5 Ton 5 Star AI Flexicool Inverter S...</td>\n",
              "      <td>appliances</td>\n",
              "      <td>Air Conditioners</td>\n",
              "      <td>https://m.media-amazon.com/images/I/61JtwWcAco...</td>\n",
              "      <td>https://www.amazon.in/Carrier-Flexicool-Conver...</td>\n",
              "      <td>4</td>\n",
              "      <td>568</td>\n",
              "      <td>₹41,999</td>\n",
              "      <td>₹78,490</td>\n",
              "    </tr>\n",
              "    <tr>\n",
              "      <th>14</th>\n",
              "      <td>14</td>\n",
              "      <td>Whirlpool 1.5 Ton 3 Star, Flexicool Inverter S...</td>\n",
              "      <td>appliances</td>\n",
              "      <td>Air Conditioners</td>\n",
              "      <td>https://m.media-amazon.com/images/I/51vyGNOskV...</td>\n",
              "      <td>https://www.amazon.in/Whirlpool-Flexicool-Inve...</td>\n",
              "      <td>3.9</td>\n",
              "      <td>3,670</td>\n",
              "      <td>₹31,990</td>\n",
              "      <td>₹62,000</td>\n",
              "    </tr>\n",
              "    <tr>\n",
              "      <th>15</th>\n",
              "      <td>15</td>\n",
              "      <td>Samsung 1.5 Ton 3 Star Inverter Split AC (Copp...</td>\n",
              "      <td>appliances</td>\n",
              "      <td>Air Conditioners</td>\n",
              "      <td>https://m.media-amazon.com/images/I/51dPET0mdF...</td>\n",
              "      <td>https://www.amazon.in/Samsung-Inverter-Convert...</td>\n",
              "      <td>3.8</td>\n",
              "      <td>312</td>\n",
              "      <td>₹35,499</td>\n",
              "      <td>₹60,990</td>\n",
              "    </tr>\n",
              "    <tr>\n",
              "      <th>16</th>\n",
              "      <td>16</td>\n",
              "      <td>Lloyd 1.0 Ton 5 Star Inverter Split Ac (5 In 1...</td>\n",
              "      <td>appliances</td>\n",
              "      <td>Air Conditioners</td>\n",
              "      <td>https://m.media-amazon.com/images/I/31IXlxIPsO...</td>\n",
              "      <td>https://www.amazon.in/Lloyd-Inverter-Convertib...</td>\n",
              "      <td>4.1</td>\n",
              "      <td>88</td>\n",
              "      <td>₹34,000</td>\n",
              "      <td>₹57,990</td>\n",
              "    </tr>\n",
              "    <tr>\n",
              "      <th>17</th>\n",
              "      <td>17</td>\n",
              "      <td>Godrej 1.5 Ton 5 Star 5-In-1 Convertible, Inve...</td>\n",
              "      <td>appliances</td>\n",
              "      <td>Air Conditioners</td>\n",
              "      <td>https://m.media-amazon.com/images/I/51HEnpDyVp...</td>\n",
              "      <td>https://www.amazon.in/Godrej-Convertible-1-5T-...</td>\n",
              "      <td>4.1</td>\n",
              "      <td>432</td>\n",
              "      <td>₹37,490</td>\n",
              "      <td>₹54,900</td>\n",
              "    </tr>\n",
              "    <tr>\n",
              "      <th>18</th>\n",
              "      <td>18</td>\n",
              "      <td>Godrej 1 Ton 3 Star Inverter Split Ac Model 20...</td>\n",
              "      <td>appliances</td>\n",
              "      <td>Air Conditioners</td>\n",
              "      <td>https://m.media-amazon.com/images/I/41kGqW4aeM...</td>\n",
              "      <td>https://www.amazon.in/Godrej-Convertible-Split...</td>\n",
              "      <td>3.9</td>\n",
              "      <td>268</td>\n",
              "      <td>₹29,490</td>\n",
              "      <td>₹42,900</td>\n",
              "    </tr>\n",
              "    <tr>\n",
              "      <th>19</th>\n",
              "      <td>19</td>\n",
              "      <td>Daikin 1.5 Ton 3 Star Inverter Split AC (Coppe...</td>\n",
              "      <td>appliances</td>\n",
              "      <td>Air Conditioners</td>\n",
              "      <td>https://m.media-amazon.com/images/I/41O8pnwGG+...</td>\n",
              "      <td>https://www.amazon.in/Daikin-Inverter-Display-...</td>\n",
              "      <td>3.5</td>\n",
              "      <td>2</td>\n",
              "      <td>₹39,499</td>\n",
              "      <td>₹58,400</td>\n",
              "    </tr>\n",
              "  </tbody>\n",
              "</table>\n",
              "</div>\n",
              "      <button class=\"colab-df-convert\" onclick=\"convertToInteractive('df-4641b3a8-4515-4fab-b557-0f56f8ebb133')\"\n",
              "              title=\"Convert this dataframe to an interactive table.\"\n",
              "              style=\"display:none;\">\n",
              "\n",
              "  <svg xmlns=\"http://www.w3.org/2000/svg\" height=\"24px\"viewBox=\"0 0 24 24\"\n",
              "       width=\"24px\">\n",
              "    <path d=\"M0 0h24v24H0V0z\" fill=\"none\"/>\n",
              "    <path d=\"M18.56 5.44l.94 2.06.94-2.06 2.06-.94-2.06-.94-.94-2.06-.94 2.06-2.06.94zm-11 1L8.5 8.5l.94-2.06 2.06-.94-2.06-.94L8.5 2.5l-.94 2.06-2.06.94zm10 10l.94 2.06.94-2.06 2.06-.94-2.06-.94-.94-2.06-.94 2.06-2.06.94z\"/><path d=\"M17.41 7.96l-1.37-1.37c-.4-.4-.92-.59-1.43-.59-.52 0-1.04.2-1.43.59L10.3 9.45l-7.72 7.72c-.78.78-.78 2.05 0 2.83L4 21.41c.39.39.9.59 1.41.59.51 0 1.02-.2 1.41-.59l7.78-7.78 2.81-2.81c.8-.78.8-2.07 0-2.86zM5.41 20L4 18.59l7.72-7.72 1.47 1.35L5.41 20z\"/>\n",
              "  </svg>\n",
              "      </button>\n",
              "\n",
              "\n",
              "\n",
              "    <div id=\"df-f817c9b8-47fa-4106-9206-06ee50d16081\">\n",
              "      <button class=\"colab-df-quickchart\" onclick=\"quickchart('df-f817c9b8-47fa-4106-9206-06ee50d16081')\"\n",
              "              title=\"Suggest charts.\"\n",
              "              style=\"display:none;\">\n",
              "\n",
              "<svg xmlns=\"http://www.w3.org/2000/svg\" height=\"24px\"viewBox=\"0 0 24 24\"\n",
              "     width=\"24px\">\n",
              "    <g>\n",
              "        <path d=\"M19 3H5c-1.1 0-2 .9-2 2v14c0 1.1.9 2 2 2h14c1.1 0 2-.9 2-2V5c0-1.1-.9-2-2-2zM9 17H7v-7h2v7zm4 0h-2V7h2v10zm4 0h-2v-4h2v4z\"/>\n",
              "    </g>\n",
              "</svg>\n",
              "      </button>\n",
              "    </div>\n",
              "\n",
              "<style>\n",
              "  .colab-df-quickchart {\n",
              "    background-color: #E8F0FE;\n",
              "    border: none;\n",
              "    border-radius: 50%;\n",
              "    cursor: pointer;\n",
              "    display: none;\n",
              "    fill: #1967D2;\n",
              "    height: 32px;\n",
              "    padding: 0 0 0 0;\n",
              "    width: 32px;\n",
              "  }\n",
              "\n",
              "  .colab-df-quickchart:hover {\n",
              "    background-color: #E2EBFA;\n",
              "    box-shadow: 0px 1px 2px rgba(60, 64, 67, 0.3), 0px 1px 3px 1px rgba(60, 64, 67, 0.15);\n",
              "    fill: #174EA6;\n",
              "  }\n",
              "\n",
              "  [theme=dark] .colab-df-quickchart {\n",
              "    background-color: #3B4455;\n",
              "    fill: #D2E3FC;\n",
              "  }\n",
              "\n",
              "  [theme=dark] .colab-df-quickchart:hover {\n",
              "    background-color: #434B5C;\n",
              "    box-shadow: 0px 1px 3px 1px rgba(0, 0, 0, 0.15);\n",
              "    filter: drop-shadow(0px 1px 2px rgba(0, 0, 0, 0.3));\n",
              "    fill: #FFFFFF;\n",
              "  }\n",
              "</style>\n",
              "\n",
              "    <script>\n",
              "      async function quickchart(key) {\n",
              "        const containerElement = document.querySelector('#' + key);\n",
              "        const charts = await google.colab.kernel.invokeFunction(\n",
              "            'suggestCharts', [key], {});\n",
              "      }\n",
              "    </script>\n",
              "\n",
              "      <script>\n",
              "\n",
              "function displayQuickchartButton(domScope) {\n",
              "  let quickchartButtonEl =\n",
              "    domScope.querySelector('#df-f817c9b8-47fa-4106-9206-06ee50d16081 button.colab-df-quickchart');\n",
              "  quickchartButtonEl.style.display =\n",
              "    google.colab.kernel.accessAllowed ? 'block' : 'none';\n",
              "}\n",
              "\n",
              "        displayQuickchartButton(document);\n",
              "      </script>\n",
              "      <style>\n",
              "    .colab-df-container {\n",
              "      display:flex;\n",
              "      flex-wrap:wrap;\n",
              "      gap: 12px;\n",
              "    }\n",
              "\n",
              "    .colab-df-convert {\n",
              "      background-color: #E8F0FE;\n",
              "      border: none;\n",
              "      border-radius: 50%;\n",
              "      cursor: pointer;\n",
              "      display: none;\n",
              "      fill: #1967D2;\n",
              "      height: 32px;\n",
              "      padding: 0 0 0 0;\n",
              "      width: 32px;\n",
              "    }\n",
              "\n",
              "    .colab-df-convert:hover {\n",
              "      background-color: #E2EBFA;\n",
              "      box-shadow: 0px 1px 2px rgba(60, 64, 67, 0.3), 0px 1px 3px 1px rgba(60, 64, 67, 0.15);\n",
              "      fill: #174EA6;\n",
              "    }\n",
              "\n",
              "    [theme=dark] .colab-df-convert {\n",
              "      background-color: #3B4455;\n",
              "      fill: #D2E3FC;\n",
              "    }\n",
              "\n",
              "    [theme=dark] .colab-df-convert:hover {\n",
              "      background-color: #434B5C;\n",
              "      box-shadow: 0px 1px 3px 1px rgba(0, 0, 0, 0.15);\n",
              "      filter: drop-shadow(0px 1px 2px rgba(0, 0, 0, 0.3));\n",
              "      fill: #FFFFFF;\n",
              "    }\n",
              "  </style>\n",
              "\n",
              "      <script>\n",
              "        const buttonEl =\n",
              "          document.querySelector('#df-4641b3a8-4515-4fab-b557-0f56f8ebb133 button.colab-df-convert');\n",
              "        buttonEl.style.display =\n",
              "          google.colab.kernel.accessAllowed ? 'block' : 'none';\n",
              "\n",
              "        async function convertToInteractive(key) {\n",
              "          const element = document.querySelector('#df-4641b3a8-4515-4fab-b557-0f56f8ebb133');\n",
              "          const dataTable =\n",
              "            await google.colab.kernel.invokeFunction('convertToInteractive',\n",
              "                                                     [key], {});\n",
              "          if (!dataTable) return;\n",
              "\n",
              "          const docLinkHtml = 'Like what you see? Visit the ' +\n",
              "            '<a target=\"_blank\" href=https://colab.research.google.com/notebooks/data_table.ipynb>data table notebook</a>'\n",
              "            + ' to learn more about interactive tables.';\n",
              "          element.innerHTML = '';\n",
              "          dataTable['output_type'] = 'display_data';\n",
              "          await google.colab.output.renderOutput(dataTable, element);\n",
              "          const docLink = document.createElement('div');\n",
              "          docLink.innerHTML = docLinkHtml;\n",
              "          element.appendChild(docLink);\n",
              "        }\n",
              "      </script>\n",
              "    </div>\n",
              "  </div>\n"
            ]
          },
          "metadata": {},
          "execution_count": 4
        }
      ]
    },
    {
      "cell_type": "code",
      "source": [
        "# shape of dataframe\n",
        "df.shape"
      ],
      "metadata": {
        "colab": {
          "base_uri": "https://localhost:8080/"
        },
        "id": "hw8MDTT2UT1o",
        "outputId": "52091a67-3007-475d-8e9e-726d88489e08"
      },
      "execution_count": 5,
      "outputs": [
        {
          "output_type": "execute_result",
          "data": {
            "text/plain": [
              "(551585, 10)"
            ]
          },
          "metadata": {},
          "execution_count": 5
        }
      ]
    },
    {
      "cell_type": "code",
      "source": [
        "#quick view of the columns type\n",
        "df.info()"
      ],
      "metadata": {
        "colab": {
          "base_uri": "https://localhost:8080/"
        },
        "id": "KcaLdw1tbTyv",
        "outputId": "b5447d9b-4c52-4741-c969-b7f7df056b4b"
      },
      "execution_count": 6,
      "outputs": [
        {
          "output_type": "stream",
          "name": "stdout",
          "text": [
            "<class 'pandas.core.frame.DataFrame'>\n",
            "RangeIndex: 551585 entries, 0 to 551584\n",
            "Data columns (total 10 columns):\n",
            " #   Column          Non-Null Count   Dtype \n",
            "---  ------          --------------   ----- \n",
            " 0   Unnamed: 0      551585 non-null  int64 \n",
            " 1   name            551585 non-null  object\n",
            " 2   main_category   551585 non-null  object\n",
            " 3   sub_category    551585 non-null  object\n",
            " 4   image           551585 non-null  object\n",
            " 5   link            551585 non-null  object\n",
            " 6   ratings         375791 non-null  object\n",
            " 7   no_of_ratings   375791 non-null  object\n",
            " 8   discount_price  490422 non-null  object\n",
            " 9   actual_price    533772 non-null  object\n",
            "dtypes: int64(1), object(9)\n",
            "memory usage: 42.1+ MB\n"
          ]
        }
      ]
    },
    {
      "cell_type": "markdown",
      "source": [
        "We can see that there are null values in 'ratings', 'no_of_ratings', 'discount_price' and 'actual_price' columns.\n",
        "\n",
        "These must be removed or replaced with values."
      ],
      "metadata": {
        "id": "8z0IiVFnL__t"
      }
    },
    {
      "cell_type": "markdown",
      "source": [
        "# Data preprocessing"
      ],
      "metadata": {
        "id": "R_CNrd-4b3Xr"
      }
    },
    {
      "cell_type": "code",
      "source": [
        "# check for duplicates\n",
        "df.duplicated().any()"
      ],
      "metadata": {
        "colab": {
          "base_uri": "https://localhost:8080/"
        },
        "id": "flV1V4_mb7Gh",
        "outputId": "7e792be1-4944-4e48-c46f-7841341492af"
      },
      "execution_count": 7,
      "outputs": [
        {
          "output_type": "execute_result",
          "data": {
            "text/plain": [
              "False"
            ]
          },
          "metadata": {},
          "execution_count": 7
        }
      ]
    },
    {
      "cell_type": "markdown",
      "source": [
        "There are no duplicate values.\n",
        "\n",
        "First column is unnecessary. So, it must be deleted."
      ],
      "metadata": {
        "id": "d3YmwwguMUFY"
      }
    },
    {
      "cell_type": "code",
      "source": [
        "# drop unnecessary columns - (first column is unnecessary)\n",
        "df = df.drop('Unnamed: 0',axis=1)"
      ],
      "metadata": {
        "id": "t-rX_DJfcAyQ"
      },
      "execution_count": 8,
      "outputs": []
    },
    {
      "cell_type": "code",
      "source": [
        "# Overview of the unique values of this column\n",
        "df['ratings'].unique()"
      ],
      "metadata": {
        "colab": {
          "base_uri": "https://localhost:8080/"
        },
        "id": "_FWsrdbccORB",
        "outputId": "e18bf526-b264-48c8-e7e7-cb55dd321ff0"
      },
      "execution_count": 9,
      "outputs": [
        {
          "output_type": "execute_result",
          "data": {
            "text/plain": [
              "array(['4.2', '4', '4.1', '4.3', '3.9', '3.8', '3.5', nan, '4.6', '3.3',\n",
              "       '3.4', '3.7', '2.9', '5', '4.4', '3.6', '2.7', '4.5', '3', '3.1',\n",
              "       '3.2', '4.8', '4.7', '2.5', '1', '2.6', '2.8', '2.3', '1.7', 'Get',\n",
              "       '1.8', '2.4', '4.9', '2.2', '1.6', '1.9', '2', '1.4', '2.1',\n",
              "       'FREE', '1.2', '1.3', '1.5', '₹68.99', '₹65', '1.1', '₹70', '₹100',\n",
              "       '₹99', '₹2.99'], dtype=object)"
            ]
          },
          "metadata": {},
          "execution_count": 9
        }
      ]
    },
    {
      "cell_type": "code",
      "source": [
        "# There are non numeric values in the column. Let's strip those and change the column type\n",
        "# remove non numeric values\n",
        "dirty_value = ['Get', 'FREE', '₹68.99', '₹65', '₹70', '₹100', '₹99', '₹2.99']\n",
        "df['ratings'] = df['ratings'].replace(dirty_value, '0')\n",
        "\n",
        "# change the column type\n",
        "df['ratings'] = df['ratings'].astype('float')\n",
        "df['ratings'].dtypes"
      ],
      "metadata": {
        "colab": {
          "base_uri": "https://localhost:8080/"
        },
        "id": "WcPuytkjcgR7",
        "outputId": "82616df2-dabd-47e8-e062-ee98c09957a8"
      },
      "execution_count": 10,
      "outputs": [
        {
          "output_type": "execute_result",
          "data": {
            "text/plain": [
              "dtype('float64')"
            ]
          },
          "metadata": {},
          "execution_count": 10
        }
      ]
    },
    {
      "cell_type": "code",
      "source": [
        "# finding the number of null values in ratings column\n",
        "df['ratings'].isna().sum()"
      ],
      "metadata": {
        "colab": {
          "base_uri": "https://localhost:8080/"
        },
        "id": "jws3AmrHiX5M",
        "outputId": "e007e99e-0bf4-47cb-8621-f8f596e593e9"
      },
      "execution_count": 11,
      "outputs": [
        {
          "output_type": "execute_result",
          "data": {
            "text/plain": [
              "175794"
            ]
          },
          "metadata": {},
          "execution_count": 11
        }
      ]
    },
    {
      "cell_type": "markdown",
      "source": [
        "By removing all the rows with NaN values, we will lose a huge amount of valuable data. This may results in skewed results.\n",
        "\n",
        "So, let us replace the ratings with the mean value of the column."
      ],
      "metadata": {
        "id": "StJMjTf6il19"
      }
    },
    {
      "cell_type": "code",
      "source": [
        "# finding mean value of ratings column\n",
        "mean_ratings = df['ratings'].mean()\n",
        "mean_ratings"
      ],
      "metadata": {
        "colab": {
          "base_uri": "https://localhost:8080/"
        },
        "id": "X8FagJFWjIov",
        "outputId": "997a84a7-3c4f-4dee-fb60-fb0d6505c197"
      },
      "execution_count": 13,
      "outputs": [
        {
          "output_type": "execute_result",
          "data": {
            "text/plain": [
              "3.7687472557884583"
            ]
          },
          "metadata": {},
          "execution_count": 13
        }
      ]
    },
    {
      "cell_type": "code",
      "source": [
        "# replacing Nan Values with mean value\n",
        "df['ratings'].fillna(value=mean_ratings, inplace=True)"
      ],
      "metadata": {
        "id": "roLAmo6zjQqU"
      },
      "execution_count": 15,
      "outputs": []
    },
    {
      "cell_type": "code",
      "source": [
        "# no_of_ratings\n",
        "# Overview of the unique values\n",
        "\n",
        "df['no_of_ratings'].unique()"
      ],
      "metadata": {
        "colab": {
          "base_uri": "https://localhost:8080/"
        },
        "id": "XuEDy5SCdEjd",
        "outputId": "b30b7cb6-6835-4581-d1ec-87c8a387c955"
      },
      "execution_count": 16,
      "outputs": [
        {
          "output_type": "execute_result",
          "data": {
            "text/plain": [
              "array(['2,255', '2,948', '1,206', ..., '3,329', '7,141', '4,406'],\n",
              "      dtype=object)"
            ]
          },
          "metadata": {},
          "execution_count": 16
        }
      ]
    },
    {
      "cell_type": "code",
      "source": [
        "# replace the comma ',' by '' nothing\n",
        "\n",
        "df['no_of_ratings'] = df['no_of_ratings'].replace(',','', regex = True)\n",
        "df['no_of_ratings'].unique()"
      ],
      "metadata": {
        "colab": {
          "base_uri": "https://localhost:8080/"
        },
        "id": "xl7e9xxHdWgu",
        "outputId": "4f4778e1-3bcd-401b-bbb3-7b76129018c6"
      },
      "execution_count": 17,
      "outputs": [
        {
          "output_type": "execute_result",
          "data": {
            "text/plain": [
              "array(['2255', '2948', '1206', ..., '3329', '7141', '4406'], dtype=object)"
            ]
          },
          "metadata": {},
          "execution_count": 17
        }
      ]
    },
    {
      "cell_type": "code",
      "source": [
        "# Find non numeric values\n",
        "\n",
        "non_numeric_values = df.loc[~pd.to_numeric(df['no_of_ratings'], errors='coerce').notna(), 'no_of_ratings']\n",
        "non_numeric_values.unique()"
      ],
      "metadata": {
        "colab": {
          "base_uri": "https://localhost:8080/"
        },
        "id": "ivzA2WPDdpEr",
        "outputId": "eb9c93d7-e94d-4872-858b-c751ff6980ab"
      },
      "execution_count": 18,
      "outputs": [
        {
          "output_type": "execute_result",
          "data": {
            "text/plain": [
              "array([nan, 'Only 2 left in stock.', 'Only 1 left in stock.',\n",
              "       'FREE Delivery by Amazon', 'Usually dispatched in 2 to 3 days.',\n",
              "       'Usually dispatched in 5 to 6 days.',\n",
              "       'Usually dispatched in 4 to 5 days.',\n",
              "       'Usually dispatched in 6 to 7 days.',\n",
              "       'Usually dispatched in 7 to 8 days.', 'Only 3 left in stock.',\n",
              "       'Usually dispatched in 3 to 4 weeks.',\n",
              "       'Usually dispatched in 4 to 5 weeks.', 'Only 5 left in stock.',\n",
              "       'Only 4 left in stock.', 'Usually dispatched in 3 to 5 days.',\n",
              "       'Usually dispatched in 11 to 12 days.',\n",
              "       'Usually dispatched in 9 to 10 days.',\n",
              "       'Usually dispatched in 2 to 3 weeks.',\n",
              "       'Usually dispatched in 8 to 9 days.',\n",
              "       'Usually dispatched in 1 to 2 months.',\n",
              "       'This item will be released on August 14 2023.'], dtype=object)"
            ]
          },
          "metadata": {},
          "execution_count": 18
        }
      ]
    },
    {
      "cell_type": "code",
      "source": [
        "# replacing non numeric value by '0'\n",
        "df['no_of_ratings'] = pd.to_numeric(df['no_of_ratings'], errors='coerce').fillna('0')\n",
        "\n",
        "# change the column type\n",
        "df['no_of_ratings'] = df['no_of_ratings'].astype('float')\n",
        "df['no_of_ratings'].dtypes"
      ],
      "metadata": {
        "colab": {
          "base_uri": "https://localhost:8080/"
        },
        "id": "6FANlFIYdz4e",
        "outputId": "388883cb-7dd4-48b8-c11b-5b44b820d036"
      },
      "execution_count": 19,
      "outputs": [
        {
          "output_type": "execute_result",
          "data": {
            "text/plain": [
              "dtype('float64')"
            ]
          },
          "metadata": {},
          "execution_count": 19
        }
      ]
    },
    {
      "cell_type": "code",
      "source": [
        "# finding the number of null values in no_of_ratings column\n",
        "df['no_of_ratings'].isna().sum()"
      ],
      "metadata": {
        "colab": {
          "base_uri": "https://localhost:8080/"
        },
        "id": "i4QAl34mjxwS",
        "outputId": "c5dc6e4a-3c7d-435d-a82c-95acb074b9fd"
      },
      "execution_count": 20,
      "outputs": [
        {
          "output_type": "execute_result",
          "data": {
            "text/plain": [
              "0"
            ]
          },
          "metadata": {},
          "execution_count": 20
        }
      ]
    },
    {
      "cell_type": "code",
      "source": [
        "# Overview of the unique values\n",
        "\n",
        "df['discount_price'].unique()"
      ],
      "metadata": {
        "colab": {
          "base_uri": "https://localhost:8080/"
        },
        "id": "0iUtBJNReF2W",
        "outputId": "f30466cc-75af-4866-f172-4742a70d11bd"
      },
      "execution_count": 21,
      "outputs": [
        {
          "output_type": "execute_result",
          "data": {
            "text/plain": [
              "array(['₹32,999', '₹46,490', '₹34,490', ..., '₹3,712.10', '₹1,429.60',\n",
              "       '₹651.01'], dtype=object)"
            ]
          },
          "metadata": {},
          "execution_count": 21
        }
      ]
    },
    {
      "cell_type": "code",
      "source": [
        "# Remove '₹' and \",\"\n",
        "\n",
        "# remove the '₹'\n",
        "df.loc[df['discount_price'].str.contains('₹')==True, 'discount_price'] = df.loc[df['discount_price'].str.contains('₹')==True, 'discount_price'].apply(lambda x:x.strip('₹'))\n",
        "\n",
        "# remove ','\n",
        "df.loc[df['discount_price'].str.contains(',')==True,'discount_price'] = df.loc[df['discount_price'].str.contains(',')==True,'discount_price'].apply(lambda x:x.replace(',',''))\n",
        "df['discount_price'].unique()"
      ],
      "metadata": {
        "colab": {
          "base_uri": "https://localhost:8080/"
        },
        "id": "pBN0T0kheVr5",
        "outputId": "7d03a415-302c-4e02-8fa4-7d7372ee4d22"
      },
      "execution_count": 22,
      "outputs": [
        {
          "output_type": "execute_result",
          "data": {
            "text/plain": [
              "array(['32999', '46490', '34490', ..., '3712.10', '1429.60', '651.01'],\n",
              "      dtype=object)"
            ]
          },
          "metadata": {},
          "execution_count": 22
        }
      ]
    },
    {
      "cell_type": "code",
      "source": [
        "# find non numeric values\n",
        "\n",
        "non_numeric_values = df.loc[~pd.to_numeric(df['discount_price'], errors='coerce').notna(), 'discount_price']\n",
        "non_numeric_values.unique()"
      ],
      "metadata": {
        "colab": {
          "base_uri": "https://localhost:8080/"
        },
        "id": "g4qO-qI4ewQI",
        "outputId": "6f2f230d-e933-4e64-f62c-690f3698ba84"
      },
      "execution_count": 23,
      "outputs": [
        {
          "output_type": "execute_result",
          "data": {
            "text/plain": [
              "array([nan], dtype=object)"
            ]
          },
          "metadata": {},
          "execution_count": 23
        }
      ]
    },
    {
      "cell_type": "code",
      "source": [
        "# change the column type\n",
        "df['discount_price'] = df['discount_price'].astype('float')\n",
        "df['discount_price'].dtypes"
      ],
      "metadata": {
        "colab": {
          "base_uri": "https://localhost:8080/"
        },
        "id": "4hss1Feve09y",
        "outputId": "94a1077f-b264-47d9-efd7-4791e491fe4c"
      },
      "execution_count": 24,
      "outputs": [
        {
          "output_type": "execute_result",
          "data": {
            "text/plain": [
              "dtype('float64')"
            ]
          },
          "metadata": {},
          "execution_count": 24
        }
      ]
    },
    {
      "cell_type": "code",
      "source": [
        "# finding the number of null values in discount_price column\n",
        "df['discount_price'].isna().sum()"
      ],
      "metadata": {
        "colab": {
          "base_uri": "https://localhost:8080/"
        },
        "id": "GDGM-AFNkFs2",
        "outputId": "45ba4300-5bfb-466c-cc58-7bab46fdc963"
      },
      "execution_count": 25,
      "outputs": [
        {
          "output_type": "execute_result",
          "data": {
            "text/plain": [
              "61163"
            ]
          },
          "metadata": {},
          "execution_count": 25
        }
      ]
    },
    {
      "cell_type": "markdown",
      "source": [
        "Let us replace the NaN values in discount_price with the mean value of the column."
      ],
      "metadata": {
        "id": "lKS29Bxrkxx8"
      }
    },
    {
      "cell_type": "code",
      "source": [
        "# finding mean value of discount_price column\n",
        "mean_value = df['discount_price'].mean()\n",
        "mean_value"
      ],
      "metadata": {
        "colab": {
          "base_uri": "https://localhost:8080/"
        },
        "id": "tZdyK4rvkP1Z",
        "outputId": "e12b64e5-d747-4620-fb04-4cc800a0dbc2"
      },
      "execution_count": 26,
      "outputs": [
        {
          "output_type": "execute_result",
          "data": {
            "text/plain": [
              "2623.1607410760544"
            ]
          },
          "metadata": {},
          "execution_count": 26
        }
      ]
    },
    {
      "cell_type": "code",
      "source": [
        "# replacing Nan Values with mean value\n",
        "df['discount_price'].fillna(value=mean_value, inplace=True)"
      ],
      "metadata": {
        "id": "XZMeWhcGke0L"
      },
      "execution_count": 28,
      "outputs": []
    },
    {
      "cell_type": "code",
      "source": [
        "df['actual_price'].unique()"
      ],
      "metadata": {
        "colab": {
          "base_uri": "https://localhost:8080/"
        },
        "id": "TbpcW0_1e6hr",
        "outputId": "e03bf7dd-3c08-4898-b8f9-1204addf4efe"
      },
      "execution_count": 29,
      "outputs": [
        {
          "output_type": "execute_result",
          "data": {
            "text/plain": [
              "array(['₹58,990', '₹75,990', '₹61,990', ..., '₹608.97', '₹4,792',\n",
              "       '₹8,023.60'], dtype=object)"
            ]
          },
          "metadata": {},
          "execution_count": 29
        }
      ]
    },
    {
      "cell_type": "code",
      "source": [
        "#remove the '₹'\n",
        "df.loc[df['actual_price'].str.contains('₹')==True, 'actual_price'] = df.loc[df['actual_price'].str.contains('₹')==True, 'actual_price'].apply(lambda x:x.strip('₹'))\n",
        "df['actual_price'].unique()\n",
        "\n",
        "#remove the ','\n",
        "df.loc[df['actual_price'].str.contains(',')==True,'actual_price'] = df.loc[df['actual_price'].str.contains(',')==True,'actual_price'].apply(lambda x:x.replace(',',''))\n",
        "df['actual_price'].unique()"
      ],
      "metadata": {
        "colab": {
          "base_uri": "https://localhost:8080/"
        },
        "id": "8HUp5ViNfFEk",
        "outputId": "cf592d87-9ce7-4812-bd5d-1f02f9df697d"
      },
      "execution_count": 30,
      "outputs": [
        {
          "output_type": "execute_result",
          "data": {
            "text/plain": [
              "array(['58990', '75990', '61990', ..., '608.97', '4792', '8023.60'],\n",
              "      dtype=object)"
            ]
          },
          "metadata": {},
          "execution_count": 30
        }
      ]
    },
    {
      "cell_type": "code",
      "source": [
        "# find non numeric values\n",
        "non_numeric_values = df.loc[~pd.to_numeric(df['actual_price'], errors='coerce').notna(), 'actual_price']\n",
        "non_numeric_values.unique()"
      ],
      "metadata": {
        "colab": {
          "base_uri": "https://localhost:8080/"
        },
        "id": "-tlxhAylfPkC",
        "outputId": "10cc98ad-e096-47a2-a8bb-279a3f29b68e"
      },
      "execution_count": 31,
      "outputs": [
        {
          "output_type": "execute_result",
          "data": {
            "text/plain": [
              "array([nan], dtype=object)"
            ]
          },
          "metadata": {},
          "execution_count": 31
        }
      ]
    },
    {
      "cell_type": "code",
      "source": [
        "# change the column type\n",
        "df['actual_price'] = df['actual_price'].astype('float')\n",
        "df['actual_price'].dtypes"
      ],
      "metadata": {
        "colab": {
          "base_uri": "https://localhost:8080/"
        },
        "id": "Pz4p3zWbfWmz",
        "outputId": "9e9b5805-6b05-407a-9fe4-1388d8dc5b7b"
      },
      "execution_count": 32,
      "outputs": [
        {
          "output_type": "execute_result",
          "data": {
            "text/plain": [
              "dtype('float64')"
            ]
          },
          "metadata": {},
          "execution_count": 32
        }
      ]
    },
    {
      "cell_type": "markdown",
      "source": [
        "**create a manufacturer column**"
      ],
      "metadata": {
        "id": "ww-HWz2Afb_s"
      }
    },
    {
      "cell_type": "markdown",
      "source": [
        "We can easily see that the manufacturers names are the first word of each row of the name's column."
      ],
      "metadata": {
        "id": "BKqCaS7BfoIs"
      }
    },
    {
      "cell_type": "code",
      "source": [
        "# split the rows in the name column on the ' ' space to get the manufacturer names\n",
        "df.insert(1, 'manufacturer', df['name'].apply(lambda x:x.split(' ')[0]))\n",
        "df.head()"
      ],
      "metadata": {
        "colab": {
          "base_uri": "https://localhost:8080/",
          "height": 773
        },
        "id": "MtkuT-QOfp4d",
        "outputId": "5fc9131e-cce8-4340-ae86-d298cc39a875"
      },
      "execution_count": 33,
      "outputs": [
        {
          "output_type": "execute_result",
          "data": {
            "text/plain": [
              "                                                name manufacturer  \\\n",
              "0  Lloyd 1.5 Ton 3 Star Inverter Split Ac (5 In 1...        Lloyd   \n",
              "1  LG 1.5 Ton 5 Star AI DUAL Inverter Split AC (C...           LG   \n",
              "2  LG 1 Ton 4 Star Ai Dual Inverter Split Ac (Cop...           LG   \n",
              "3  LG 1.5 Ton 3 Star AI DUAL Inverter Split AC (C...           LG   \n",
              "4  Carrier 1.5 Ton 3 Star Inverter Split AC (Copp...      Carrier   \n",
              "\n",
              "  main_category      sub_category  \\\n",
              "0    appliances  Air Conditioners   \n",
              "1    appliances  Air Conditioners   \n",
              "2    appliances  Air Conditioners   \n",
              "3    appliances  Air Conditioners   \n",
              "4    appliances  Air Conditioners   \n",
              "\n",
              "                                               image  \\\n",
              "0  https://m.media-amazon.com/images/I/31UISB90sY...   \n",
              "1  https://m.media-amazon.com/images/I/51JFb7FctD...   \n",
              "2  https://m.media-amazon.com/images/I/51JFb7FctD...   \n",
              "3  https://m.media-amazon.com/images/I/51JFb7FctD...   \n",
              "4  https://m.media-amazon.com/images/I/41lrtqXPiW...   \n",
              "\n",
              "                                                link  ratings  no_of_ratings  \\\n",
              "0  https://www.amazon.in/Lloyd-Inverter-Convertib...      4.2         2255.0   \n",
              "1  https://www.amazon.in/LG-Convertible-Anti-Viru...      4.2         2948.0   \n",
              "2  https://www.amazon.in/LG-Inverter-Convertible-...      4.2         1206.0   \n",
              "3  https://www.amazon.in/LG-Convertible-Anti-Viru...      4.0           69.0   \n",
              "4  https://www.amazon.in/Carrier-Inverter-Split-C...      4.1          630.0   \n",
              "\n",
              "   discount_price  actual_price  \n",
              "0         32999.0       58990.0  \n",
              "1         46490.0       75990.0  \n",
              "2         34490.0       61990.0  \n",
              "3         37990.0       68990.0  \n",
              "4         34490.0       67790.0  "
            ],
            "text/html": [
              "\n",
              "\n",
              "  <div id=\"df-4ffcca7c-658b-44aa-a7eb-6c5ae169a8d6\">\n",
              "    <div class=\"colab-df-container\">\n",
              "      <div>\n",
              "<style scoped>\n",
              "    .dataframe tbody tr th:only-of-type {\n",
              "        vertical-align: middle;\n",
              "    }\n",
              "\n",
              "    .dataframe tbody tr th {\n",
              "        vertical-align: top;\n",
              "    }\n",
              "\n",
              "    .dataframe thead th {\n",
              "        text-align: right;\n",
              "    }\n",
              "</style>\n",
              "<table border=\"1\" class=\"dataframe\">\n",
              "  <thead>\n",
              "    <tr style=\"text-align: right;\">\n",
              "      <th></th>\n",
              "      <th>name</th>\n",
              "      <th>manufacturer</th>\n",
              "      <th>main_category</th>\n",
              "      <th>sub_category</th>\n",
              "      <th>image</th>\n",
              "      <th>link</th>\n",
              "      <th>ratings</th>\n",
              "      <th>no_of_ratings</th>\n",
              "      <th>discount_price</th>\n",
              "      <th>actual_price</th>\n",
              "    </tr>\n",
              "  </thead>\n",
              "  <tbody>\n",
              "    <tr>\n",
              "      <th>0</th>\n",
              "      <td>Lloyd 1.5 Ton 3 Star Inverter Split Ac (5 In 1...</td>\n",
              "      <td>Lloyd</td>\n",
              "      <td>appliances</td>\n",
              "      <td>Air Conditioners</td>\n",
              "      <td>https://m.media-amazon.com/images/I/31UISB90sY...</td>\n",
              "      <td>https://www.amazon.in/Lloyd-Inverter-Convertib...</td>\n",
              "      <td>4.2</td>\n",
              "      <td>2255.0</td>\n",
              "      <td>32999.0</td>\n",
              "      <td>58990.0</td>\n",
              "    </tr>\n",
              "    <tr>\n",
              "      <th>1</th>\n",
              "      <td>LG 1.5 Ton 5 Star AI DUAL Inverter Split AC (C...</td>\n",
              "      <td>LG</td>\n",
              "      <td>appliances</td>\n",
              "      <td>Air Conditioners</td>\n",
              "      <td>https://m.media-amazon.com/images/I/51JFb7FctD...</td>\n",
              "      <td>https://www.amazon.in/LG-Convertible-Anti-Viru...</td>\n",
              "      <td>4.2</td>\n",
              "      <td>2948.0</td>\n",
              "      <td>46490.0</td>\n",
              "      <td>75990.0</td>\n",
              "    </tr>\n",
              "    <tr>\n",
              "      <th>2</th>\n",
              "      <td>LG 1 Ton 4 Star Ai Dual Inverter Split Ac (Cop...</td>\n",
              "      <td>LG</td>\n",
              "      <td>appliances</td>\n",
              "      <td>Air Conditioners</td>\n",
              "      <td>https://m.media-amazon.com/images/I/51JFb7FctD...</td>\n",
              "      <td>https://www.amazon.in/LG-Inverter-Convertible-...</td>\n",
              "      <td>4.2</td>\n",
              "      <td>1206.0</td>\n",
              "      <td>34490.0</td>\n",
              "      <td>61990.0</td>\n",
              "    </tr>\n",
              "    <tr>\n",
              "      <th>3</th>\n",
              "      <td>LG 1.5 Ton 3 Star AI DUAL Inverter Split AC (C...</td>\n",
              "      <td>LG</td>\n",
              "      <td>appliances</td>\n",
              "      <td>Air Conditioners</td>\n",
              "      <td>https://m.media-amazon.com/images/I/51JFb7FctD...</td>\n",
              "      <td>https://www.amazon.in/LG-Convertible-Anti-Viru...</td>\n",
              "      <td>4.0</td>\n",
              "      <td>69.0</td>\n",
              "      <td>37990.0</td>\n",
              "      <td>68990.0</td>\n",
              "    </tr>\n",
              "    <tr>\n",
              "      <th>4</th>\n",
              "      <td>Carrier 1.5 Ton 3 Star Inverter Split AC (Copp...</td>\n",
              "      <td>Carrier</td>\n",
              "      <td>appliances</td>\n",
              "      <td>Air Conditioners</td>\n",
              "      <td>https://m.media-amazon.com/images/I/41lrtqXPiW...</td>\n",
              "      <td>https://www.amazon.in/Carrier-Inverter-Split-C...</td>\n",
              "      <td>4.1</td>\n",
              "      <td>630.0</td>\n",
              "      <td>34490.0</td>\n",
              "      <td>67790.0</td>\n",
              "    </tr>\n",
              "  </tbody>\n",
              "</table>\n",
              "</div>\n",
              "      <button class=\"colab-df-convert\" onclick=\"convertToInteractive('df-4ffcca7c-658b-44aa-a7eb-6c5ae169a8d6')\"\n",
              "              title=\"Convert this dataframe to an interactive table.\"\n",
              "              style=\"display:none;\">\n",
              "\n",
              "  <svg xmlns=\"http://www.w3.org/2000/svg\" height=\"24px\"viewBox=\"0 0 24 24\"\n",
              "       width=\"24px\">\n",
              "    <path d=\"M0 0h24v24H0V0z\" fill=\"none\"/>\n",
              "    <path d=\"M18.56 5.44l.94 2.06.94-2.06 2.06-.94-2.06-.94-.94-2.06-.94 2.06-2.06.94zm-11 1L8.5 8.5l.94-2.06 2.06-.94-2.06-.94L8.5 2.5l-.94 2.06-2.06.94zm10 10l.94 2.06.94-2.06 2.06-.94-2.06-.94-.94-2.06-.94 2.06-2.06.94z\"/><path d=\"M17.41 7.96l-1.37-1.37c-.4-.4-.92-.59-1.43-.59-.52 0-1.04.2-1.43.59L10.3 9.45l-7.72 7.72c-.78.78-.78 2.05 0 2.83L4 21.41c.39.39.9.59 1.41.59.51 0 1.02-.2 1.41-.59l7.78-7.78 2.81-2.81c.8-.78.8-2.07 0-2.86zM5.41 20L4 18.59l7.72-7.72 1.47 1.35L5.41 20z\"/>\n",
              "  </svg>\n",
              "      </button>\n",
              "\n",
              "\n",
              "\n",
              "    <div id=\"df-a5dd9cb4-9b1a-43ea-b4bd-dcee8d66ac4a\">\n",
              "      <button class=\"colab-df-quickchart\" onclick=\"quickchart('df-a5dd9cb4-9b1a-43ea-b4bd-dcee8d66ac4a')\"\n",
              "              title=\"Suggest charts.\"\n",
              "              style=\"display:none;\">\n",
              "\n",
              "<svg xmlns=\"http://www.w3.org/2000/svg\" height=\"24px\"viewBox=\"0 0 24 24\"\n",
              "     width=\"24px\">\n",
              "    <g>\n",
              "        <path d=\"M19 3H5c-1.1 0-2 .9-2 2v14c0 1.1.9 2 2 2h14c1.1 0 2-.9 2-2V5c0-1.1-.9-2-2-2zM9 17H7v-7h2v7zm4 0h-2V7h2v10zm4 0h-2v-4h2v4z\"/>\n",
              "    </g>\n",
              "</svg>\n",
              "      </button>\n",
              "    </div>\n",
              "\n",
              "<style>\n",
              "  .colab-df-quickchart {\n",
              "    background-color: #E8F0FE;\n",
              "    border: none;\n",
              "    border-radius: 50%;\n",
              "    cursor: pointer;\n",
              "    display: none;\n",
              "    fill: #1967D2;\n",
              "    height: 32px;\n",
              "    padding: 0 0 0 0;\n",
              "    width: 32px;\n",
              "  }\n",
              "\n",
              "  .colab-df-quickchart:hover {\n",
              "    background-color: #E2EBFA;\n",
              "    box-shadow: 0px 1px 2px rgba(60, 64, 67, 0.3), 0px 1px 3px 1px rgba(60, 64, 67, 0.15);\n",
              "    fill: #174EA6;\n",
              "  }\n",
              "\n",
              "  [theme=dark] .colab-df-quickchart {\n",
              "    background-color: #3B4455;\n",
              "    fill: #D2E3FC;\n",
              "  }\n",
              "\n",
              "  [theme=dark] .colab-df-quickchart:hover {\n",
              "    background-color: #434B5C;\n",
              "    box-shadow: 0px 1px 3px 1px rgba(0, 0, 0, 0.15);\n",
              "    filter: drop-shadow(0px 1px 2px rgba(0, 0, 0, 0.3));\n",
              "    fill: #FFFFFF;\n",
              "  }\n",
              "</style>\n",
              "\n",
              "    <script>\n",
              "      async function quickchart(key) {\n",
              "        const containerElement = document.querySelector('#' + key);\n",
              "        const charts = await google.colab.kernel.invokeFunction(\n",
              "            'suggestCharts', [key], {});\n",
              "      }\n",
              "    </script>\n",
              "\n",
              "      <script>\n",
              "\n",
              "function displayQuickchartButton(domScope) {\n",
              "  let quickchartButtonEl =\n",
              "    domScope.querySelector('#df-a5dd9cb4-9b1a-43ea-b4bd-dcee8d66ac4a button.colab-df-quickchart');\n",
              "  quickchartButtonEl.style.display =\n",
              "    google.colab.kernel.accessAllowed ? 'block' : 'none';\n",
              "}\n",
              "\n",
              "        displayQuickchartButton(document);\n",
              "      </script>\n",
              "      <style>\n",
              "    .colab-df-container {\n",
              "      display:flex;\n",
              "      flex-wrap:wrap;\n",
              "      gap: 12px;\n",
              "    }\n",
              "\n",
              "    .colab-df-convert {\n",
              "      background-color: #E8F0FE;\n",
              "      border: none;\n",
              "      border-radius: 50%;\n",
              "      cursor: pointer;\n",
              "      display: none;\n",
              "      fill: #1967D2;\n",
              "      height: 32px;\n",
              "      padding: 0 0 0 0;\n",
              "      width: 32px;\n",
              "    }\n",
              "\n",
              "    .colab-df-convert:hover {\n",
              "      background-color: #E2EBFA;\n",
              "      box-shadow: 0px 1px 2px rgba(60, 64, 67, 0.3), 0px 1px 3px 1px rgba(60, 64, 67, 0.15);\n",
              "      fill: #174EA6;\n",
              "    }\n",
              "\n",
              "    [theme=dark] .colab-df-convert {\n",
              "      background-color: #3B4455;\n",
              "      fill: #D2E3FC;\n",
              "    }\n",
              "\n",
              "    [theme=dark] .colab-df-convert:hover {\n",
              "      background-color: #434B5C;\n",
              "      box-shadow: 0px 1px 3px 1px rgba(0, 0, 0, 0.15);\n",
              "      filter: drop-shadow(0px 1px 2px rgba(0, 0, 0, 0.3));\n",
              "      fill: #FFFFFF;\n",
              "    }\n",
              "  </style>\n",
              "\n",
              "      <script>\n",
              "        const buttonEl =\n",
              "          document.querySelector('#df-4ffcca7c-658b-44aa-a7eb-6c5ae169a8d6 button.colab-df-convert');\n",
              "        buttonEl.style.display =\n",
              "          google.colab.kernel.accessAllowed ? 'block' : 'none';\n",
              "\n",
              "        async function convertToInteractive(key) {\n",
              "          const element = document.querySelector('#df-4ffcca7c-658b-44aa-a7eb-6c5ae169a8d6');\n",
              "          const dataTable =\n",
              "            await google.colab.kernel.invokeFunction('convertToInteractive',\n",
              "                                                     [key], {});\n",
              "          if (!dataTable) return;\n",
              "\n",
              "          const docLinkHtml = 'Like what you see? Visit the ' +\n",
              "            '<a target=\"_blank\" href=https://colab.research.google.com/notebooks/data_table.ipynb>data table notebook</a>'\n",
              "            + ' to learn more about interactive tables.';\n",
              "          element.innerHTML = '';\n",
              "          dataTable['output_type'] = 'display_data';\n",
              "          await google.colab.output.renderOutput(dataTable, element);\n",
              "          const docLink = document.createElement('div');\n",
              "          docLink.innerHTML = docLinkHtml;\n",
              "          element.appendChild(docLink);\n",
              "        }\n",
              "      </script>\n",
              "    </div>\n",
              "  </div>\n"
            ]
          },
          "metadata": {},
          "execution_count": 33
        }
      ]
    },
    {
      "cell_type": "markdown",
      "source": [
        "**EDA**"
      ],
      "metadata": {
        "id": "fmrKKpcxgEae"
      }
    },
    {
      "cell_type": "markdown",
      "source": [
        "When it comes to e-commerce sites like Amazon the few things that people first look for are the top manufacturers and their statistics:\n",
        "\n",
        "\n",
        "*   Top categories\n",
        "*   Top subcategories\n",
        "*   Ratings\n",
        "*   Number of reviews\n",
        "*   Price\n",
        "*   Discount Percentage\n",
        "*   Relationship between discount percentage and number of reviews\n",
        "*   List item"
      ],
      "metadata": {
        "id": "i9lAI0JzgLlT"
      }
    },
    {
      "cell_type": "code",
      "source": [
        "# let's quickly see basic stats\n",
        "df.describe()"
      ],
      "metadata": {
        "colab": {
          "base_uri": "https://localhost:8080/",
          "height": 300
        },
        "id": "TFRs98wOgI0i",
        "outputId": "9f040f33-72b3-4c9f-eb3a-706a2109c06d"
      },
      "execution_count": 24,
      "outputs": [
        {
          "output_type": "execute_result",
          "data": {
            "text/plain": [
              "             ratings  no_of_ratings  discount_price  actual_price\n",
              "count  375791.000000  551585.000000    4.904220e+05  5.337720e+05\n",
              "mean        3.768747     563.315707    2.623161e+03  2.311128e+04\n",
              "std         0.895413    7092.573533    9.458196e+03  1.355082e+07\n",
              "min         0.000000       0.000000    8.000000e+00  0.000000e+00\n",
              "25%         3.500000       0.000000    3.890000e+02  9.900000e+02\n",
              "50%         3.900000       4.000000    6.790000e+02  1.599000e+03\n",
              "75%         4.200000      49.000000    1.399000e+03  2.999000e+03\n",
              "max         5.000000  589547.000000    1.249990e+06  9.900000e+09"
            ],
            "text/html": [
              "\n",
              "\n",
              "  <div id=\"df-28f2617a-3b0b-4611-aa58-807cb4f6c1e3\">\n",
              "    <div class=\"colab-df-container\">\n",
              "      <div>\n",
              "<style scoped>\n",
              "    .dataframe tbody tr th:only-of-type {\n",
              "        vertical-align: middle;\n",
              "    }\n",
              "\n",
              "    .dataframe tbody tr th {\n",
              "        vertical-align: top;\n",
              "    }\n",
              "\n",
              "    .dataframe thead th {\n",
              "        text-align: right;\n",
              "    }\n",
              "</style>\n",
              "<table border=\"1\" class=\"dataframe\">\n",
              "  <thead>\n",
              "    <tr style=\"text-align: right;\">\n",
              "      <th></th>\n",
              "      <th>ratings</th>\n",
              "      <th>no_of_ratings</th>\n",
              "      <th>discount_price</th>\n",
              "      <th>actual_price</th>\n",
              "    </tr>\n",
              "  </thead>\n",
              "  <tbody>\n",
              "    <tr>\n",
              "      <th>count</th>\n",
              "      <td>375791.000000</td>\n",
              "      <td>551585.000000</td>\n",
              "      <td>4.904220e+05</td>\n",
              "      <td>5.337720e+05</td>\n",
              "    </tr>\n",
              "    <tr>\n",
              "      <th>mean</th>\n",
              "      <td>3.768747</td>\n",
              "      <td>563.315707</td>\n",
              "      <td>2.623161e+03</td>\n",
              "      <td>2.311128e+04</td>\n",
              "    </tr>\n",
              "    <tr>\n",
              "      <th>std</th>\n",
              "      <td>0.895413</td>\n",
              "      <td>7092.573533</td>\n",
              "      <td>9.458196e+03</td>\n",
              "      <td>1.355082e+07</td>\n",
              "    </tr>\n",
              "    <tr>\n",
              "      <th>min</th>\n",
              "      <td>0.000000</td>\n",
              "      <td>0.000000</td>\n",
              "      <td>8.000000e+00</td>\n",
              "      <td>0.000000e+00</td>\n",
              "    </tr>\n",
              "    <tr>\n",
              "      <th>25%</th>\n",
              "      <td>3.500000</td>\n",
              "      <td>0.000000</td>\n",
              "      <td>3.890000e+02</td>\n",
              "      <td>9.900000e+02</td>\n",
              "    </tr>\n",
              "    <tr>\n",
              "      <th>50%</th>\n",
              "      <td>3.900000</td>\n",
              "      <td>4.000000</td>\n",
              "      <td>6.790000e+02</td>\n",
              "      <td>1.599000e+03</td>\n",
              "    </tr>\n",
              "    <tr>\n",
              "      <th>75%</th>\n",
              "      <td>4.200000</td>\n",
              "      <td>49.000000</td>\n",
              "      <td>1.399000e+03</td>\n",
              "      <td>2.999000e+03</td>\n",
              "    </tr>\n",
              "    <tr>\n",
              "      <th>max</th>\n",
              "      <td>5.000000</td>\n",
              "      <td>589547.000000</td>\n",
              "      <td>1.249990e+06</td>\n",
              "      <td>9.900000e+09</td>\n",
              "    </tr>\n",
              "  </tbody>\n",
              "</table>\n",
              "</div>\n",
              "      <button class=\"colab-df-convert\" onclick=\"convertToInteractive('df-28f2617a-3b0b-4611-aa58-807cb4f6c1e3')\"\n",
              "              title=\"Convert this dataframe to an interactive table.\"\n",
              "              style=\"display:none;\">\n",
              "\n",
              "  <svg xmlns=\"http://www.w3.org/2000/svg\" height=\"24px\"viewBox=\"0 0 24 24\"\n",
              "       width=\"24px\">\n",
              "    <path d=\"M0 0h24v24H0V0z\" fill=\"none\"/>\n",
              "    <path d=\"M18.56 5.44l.94 2.06.94-2.06 2.06-.94-2.06-.94-.94-2.06-.94 2.06-2.06.94zm-11 1L8.5 8.5l.94-2.06 2.06-.94-2.06-.94L8.5 2.5l-.94 2.06-2.06.94zm10 10l.94 2.06.94-2.06 2.06-.94-2.06-.94-.94-2.06-.94 2.06-2.06.94z\"/><path d=\"M17.41 7.96l-1.37-1.37c-.4-.4-.92-.59-1.43-.59-.52 0-1.04.2-1.43.59L10.3 9.45l-7.72 7.72c-.78.78-.78 2.05 0 2.83L4 21.41c.39.39.9.59 1.41.59.51 0 1.02-.2 1.41-.59l7.78-7.78 2.81-2.81c.8-.78.8-2.07 0-2.86zM5.41 20L4 18.59l7.72-7.72 1.47 1.35L5.41 20z\"/>\n",
              "  </svg>\n",
              "      </button>\n",
              "\n",
              "\n",
              "\n",
              "    <div id=\"df-34355610-028f-4a7e-b9c5-7b1b37852d6d\">\n",
              "      <button class=\"colab-df-quickchart\" onclick=\"quickchart('df-34355610-028f-4a7e-b9c5-7b1b37852d6d')\"\n",
              "              title=\"Suggest charts.\"\n",
              "              style=\"display:none;\">\n",
              "\n",
              "<svg xmlns=\"http://www.w3.org/2000/svg\" height=\"24px\"viewBox=\"0 0 24 24\"\n",
              "     width=\"24px\">\n",
              "    <g>\n",
              "        <path d=\"M19 3H5c-1.1 0-2 .9-2 2v14c0 1.1.9 2 2 2h14c1.1 0 2-.9 2-2V5c0-1.1-.9-2-2-2zM9 17H7v-7h2v7zm4 0h-2V7h2v10zm4 0h-2v-4h2v4z\"/>\n",
              "    </g>\n",
              "</svg>\n",
              "      </button>\n",
              "    </div>\n",
              "\n",
              "<style>\n",
              "  .colab-df-quickchart {\n",
              "    background-color: #E8F0FE;\n",
              "    border: none;\n",
              "    border-radius: 50%;\n",
              "    cursor: pointer;\n",
              "    display: none;\n",
              "    fill: #1967D2;\n",
              "    height: 32px;\n",
              "    padding: 0 0 0 0;\n",
              "    width: 32px;\n",
              "  }\n",
              "\n",
              "  .colab-df-quickchart:hover {\n",
              "    background-color: #E2EBFA;\n",
              "    box-shadow: 0px 1px 2px rgba(60, 64, 67, 0.3), 0px 1px 3px 1px rgba(60, 64, 67, 0.15);\n",
              "    fill: #174EA6;\n",
              "  }\n",
              "\n",
              "  [theme=dark] .colab-df-quickchart {\n",
              "    background-color: #3B4455;\n",
              "    fill: #D2E3FC;\n",
              "  }\n",
              "\n",
              "  [theme=dark] .colab-df-quickchart:hover {\n",
              "    background-color: #434B5C;\n",
              "    box-shadow: 0px 1px 3px 1px rgba(0, 0, 0, 0.15);\n",
              "    filter: drop-shadow(0px 1px 2px rgba(0, 0, 0, 0.3));\n",
              "    fill: #FFFFFF;\n",
              "  }\n",
              "</style>\n",
              "\n",
              "    <script>\n",
              "      async function quickchart(key) {\n",
              "        const containerElement = document.querySelector('#' + key);\n",
              "        const charts = await google.colab.kernel.invokeFunction(\n",
              "            'suggestCharts', [key], {});\n",
              "      }\n",
              "    </script>\n",
              "\n",
              "      <script>\n",
              "\n",
              "function displayQuickchartButton(domScope) {\n",
              "  let quickchartButtonEl =\n",
              "    domScope.querySelector('#df-34355610-028f-4a7e-b9c5-7b1b37852d6d button.colab-df-quickchart');\n",
              "  quickchartButtonEl.style.display =\n",
              "    google.colab.kernel.accessAllowed ? 'block' : 'none';\n",
              "}\n",
              "\n",
              "        displayQuickchartButton(document);\n",
              "      </script>\n",
              "      <style>\n",
              "    .colab-df-container {\n",
              "      display:flex;\n",
              "      flex-wrap:wrap;\n",
              "      gap: 12px;\n",
              "    }\n",
              "\n",
              "    .colab-df-convert {\n",
              "      background-color: #E8F0FE;\n",
              "      border: none;\n",
              "      border-radius: 50%;\n",
              "      cursor: pointer;\n",
              "      display: none;\n",
              "      fill: #1967D2;\n",
              "      height: 32px;\n",
              "      padding: 0 0 0 0;\n",
              "      width: 32px;\n",
              "    }\n",
              "\n",
              "    .colab-df-convert:hover {\n",
              "      background-color: #E2EBFA;\n",
              "      box-shadow: 0px 1px 2px rgba(60, 64, 67, 0.3), 0px 1px 3px 1px rgba(60, 64, 67, 0.15);\n",
              "      fill: #174EA6;\n",
              "    }\n",
              "\n",
              "    [theme=dark] .colab-df-convert {\n",
              "      background-color: #3B4455;\n",
              "      fill: #D2E3FC;\n",
              "    }\n",
              "\n",
              "    [theme=dark] .colab-df-convert:hover {\n",
              "      background-color: #434B5C;\n",
              "      box-shadow: 0px 1px 3px 1px rgba(0, 0, 0, 0.15);\n",
              "      filter: drop-shadow(0px 1px 2px rgba(0, 0, 0, 0.3));\n",
              "      fill: #FFFFFF;\n",
              "    }\n",
              "  </style>\n",
              "\n",
              "      <script>\n",
              "        const buttonEl =\n",
              "          document.querySelector('#df-28f2617a-3b0b-4611-aa58-807cb4f6c1e3 button.colab-df-convert');\n",
              "        buttonEl.style.display =\n",
              "          google.colab.kernel.accessAllowed ? 'block' : 'none';\n",
              "\n",
              "        async function convertToInteractive(key) {\n",
              "          const element = document.querySelector('#df-28f2617a-3b0b-4611-aa58-807cb4f6c1e3');\n",
              "          const dataTable =\n",
              "            await google.colab.kernel.invokeFunction('convertToInteractive',\n",
              "                                                     [key], {});\n",
              "          if (!dataTable) return;\n",
              "\n",
              "          const docLinkHtml = 'Like what you see? Visit the ' +\n",
              "            '<a target=\"_blank\" href=https://colab.research.google.com/notebooks/data_table.ipynb>data table notebook</a>'\n",
              "            + ' to learn more about interactive tables.';\n",
              "          element.innerHTML = '';\n",
              "          dataTable['output_type'] = 'display_data';\n",
              "          await google.colab.output.renderOutput(dataTable, element);\n",
              "          const docLink = document.createElement('div');\n",
              "          docLink.innerHTML = docLinkHtml;\n",
              "          element.appendChild(docLink);\n",
              "        }\n",
              "      </script>\n",
              "    </div>\n",
              "  </div>\n"
            ]
          },
          "metadata": {},
          "execution_count": 24
        }
      ]
    },
    {
      "cell_type": "code",
      "source": [
        "# the ratings, discount_price and actual_price columns contain many Nan value\n",
        "df.isna().sum()"
      ],
      "metadata": {
        "colab": {
          "base_uri": "https://localhost:8080/"
        },
        "id": "F2oDL_4xgXnE",
        "outputId": "f97b786e-17c5-42fa-a27b-34eb6d6d167e"
      },
      "execution_count": 34,
      "outputs": [
        {
          "output_type": "execute_result",
          "data": {
            "text/plain": [
              "name                  0\n",
              "manufacturer          0\n",
              "main_category         0\n",
              "sub_category          0\n",
              "image                 0\n",
              "link                  0\n",
              "ratings               0\n",
              "no_of_ratings         0\n",
              "discount_price        0\n",
              "actual_price      17813\n",
              "dtype: int64"
            ]
          },
          "metadata": {},
          "execution_count": 34
        }
      ]
    },
    {
      "cell_type": "markdown",
      "source": [
        "Remove all the rows with Nan in the actual_price column."
      ],
      "metadata": {
        "id": "WzmPUxNTgmej"
      }
    },
    {
      "cell_type": "code",
      "source": [
        "# remove all the row with Nan\n",
        "df = df.dropna(subset = ['actual_price']).reset_index(drop=True)\n",
        "df.shape"
      ],
      "metadata": {
        "colab": {
          "base_uri": "https://localhost:8080/"
        },
        "id": "cOC_DAbhghKi",
        "outputId": "638952e1-2cd4-4a93-b24d-8ca432ac9074"
      },
      "execution_count": 35,
      "outputs": [
        {
          "output_type": "execute_result",
          "data": {
            "text/plain": [
              "(533772, 10)"
            ]
          },
          "metadata": {},
          "execution_count": 35
        }
      ]
    },
    {
      "cell_type": "markdown",
      "source": [
        "Let us now check if the actual price is less than the dicount price."
      ],
      "metadata": {
        "id": "_S-_c3SIl4EP"
      }
    },
    {
      "cell_type": "code",
      "source": [
        "index = df[ (df['discount_price'] >= df['actual_price']) ].index\n",
        "df.drop(index , inplace=True)"
      ],
      "metadata": {
        "id": "A20SFZbYl9L2"
      },
      "execution_count": 37,
      "outputs": []
    },
    {
      "cell_type": "code",
      "source": [
        "# Let's see the top 10 products with the highest price\n",
        "df.nlargest(10,'actual_price')"
      ],
      "metadata": {
        "id": "W_PD97Dog9Zk",
        "colab": {
          "base_uri": "https://localhost:8080/",
          "height": 1000
        },
        "outputId": "4266f63a-07bb-4cde-be58-62ead732d8bf"
      },
      "execution_count": 38,
      "outputs": [
        {
          "output_type": "execute_result",
          "data": {
            "text/plain": [
              "                                                     name manufacturer  \\\n",
              "190482  Marutivilla Insect Killer, Mosquito Killer Lig...  Marutivilla   \n",
              "390487  Clovia Women's Activewear Ankle Length Printed...       Clovia   \n",
              "482581  Samsung 214 cm (85 inches) 8K Ultra HD Smart N...      Samsung   \n",
              "301348  USPTO डायमंड वन स्टोन D Colour Genuine 3 Carat...        USPTO   \n",
              "323339  USPTO डायमंड वन स्टोन D Colour Genuine 3 Carat...        USPTO   \n",
              "378937  USPTO डायमंड वन स्टोन D Colour Genuine 3 Carat...        USPTO   \n",
              "378969  USPTO डायमंड वन स्टोन D Colour Genuine 3 Carat...        USPTO   \n",
              "146982  Venus Gems Gallery Real Diamond Ring 2 Carat O...        Venus   \n",
              "300054  Venus Gems Gallery Real Diamond Ring 2 Carat O...        Venus   \n",
              "300188  USPTO 2.85 Carat Real GIA Certifed Diamond Loo...        USPTO   \n",
              "\n",
              "              main_category                sub_category  \\\n",
              "190482       home & kitchen           Garden & Outdoors   \n",
              "390487     sports & fitness                     Running   \n",
              "482581  tv, audio & cameras                 Televisions   \n",
              "301348          accessories                   Jewellery   \n",
              "323339        kids' fashion               Kids' Fashion   \n",
              "378937               stores               Men's Fashion   \n",
              "378969               stores               Men's Fashion   \n",
              "146982          accessories  Fashion & Silver Jewellery   \n",
              "300054          accessories                   Jewellery   \n",
              "300188          accessories                   Jewellery   \n",
              "\n",
              "                                                    image  \\\n",
              "190482  https://m.media-amazon.com/images/W/IMAGERENDE...   \n",
              "390487  https://m.media-amazon.com/images/I/61ssMT12tF...   \n",
              "482581  https://m.media-amazon.com/images/I/91RMUYY13V...   \n",
              "301348  https://m.media-amazon.com/images/I/31VTWJnrqs...   \n",
              "323339  https://m.media-amazon.com/images/W/IMAGERENDE...   \n",
              "378937  https://m.media-amazon.com/images/I/31VTWJnrqs...   \n",
              "378969  https://m.media-amazon.com/images/I/31VTWJnrqs...   \n",
              "146982  https://m.media-amazon.com/images/W/IMAGERENDE...   \n",
              "300054  https://m.media-amazon.com/images/W/IMAGERENDE...   \n",
              "300188  https://m.media-amazon.com/images/W/IMAGERENDE...   \n",
              "\n",
              "                                                     link   ratings  \\\n",
              "190482  https://www.amazon.in/Marutivilla-Mosquito-Suc...  2.000000   \n",
              "390487  https://www.amazon.in/Clovia-Womens-Activewear...  3.200000   \n",
              "482581  https://www.amazon.in/Samsung-Smart-QA85QN800A...  4.000000   \n",
              "301348  https://www.amazon.in/USPTO-Certified-Transpar...  3.768747   \n",
              "323339  https://www.amazon.in/USPTO-Certified-Transpar...  3.768747   \n",
              "378937  https://www.amazon.in/USPTO-Certified-Transpar...  3.768747   \n",
              "378969  https://www.amazon.in/USPTO-Certified-Transpar...  3.768747   \n",
              "146982  https://www.amazon.in/Gallery-Diamond-Original...  3.768747   \n",
              "300054  https://www.amazon.in/Gallery-Diamond-Original...  3.768747   \n",
              "300188  https://www.amazon.in/USPTO-Certifed-StoneBest...  3.768747   \n",
              "\n",
              "        no_of_ratings  discount_price  actual_price  \n",
              "190482            1.0           589.0  9.900000e+09  \n",
              "390487            4.0           688.0  6.108299e+07  \n",
              "482581           10.0       1249990.0  1.594900e+06  \n",
              "301348            0.0        406009.0  1.200000e+06  \n",
              "323339            0.0        406009.0  1.200000e+06  \n",
              "378937            0.0        406009.0  1.200000e+06  \n",
              "378969            0.0        406009.0  1.200000e+06  \n",
              "146982            0.0        499999.0  1.000000e+06  \n",
              "300054            0.0        499999.0  1.000000e+06  \n",
              "300188            0.0        459999.0  9.200000e+05  "
            ],
            "text/html": [
              "\n",
              "\n",
              "  <div id=\"df-4cb944e7-cd89-4a27-810a-889cd5835199\">\n",
              "    <div class=\"colab-df-container\">\n",
              "      <div>\n",
              "<style scoped>\n",
              "    .dataframe tbody tr th:only-of-type {\n",
              "        vertical-align: middle;\n",
              "    }\n",
              "\n",
              "    .dataframe tbody tr th {\n",
              "        vertical-align: top;\n",
              "    }\n",
              "\n",
              "    .dataframe thead th {\n",
              "        text-align: right;\n",
              "    }\n",
              "</style>\n",
              "<table border=\"1\" class=\"dataframe\">\n",
              "  <thead>\n",
              "    <tr style=\"text-align: right;\">\n",
              "      <th></th>\n",
              "      <th>name</th>\n",
              "      <th>manufacturer</th>\n",
              "      <th>main_category</th>\n",
              "      <th>sub_category</th>\n",
              "      <th>image</th>\n",
              "      <th>link</th>\n",
              "      <th>ratings</th>\n",
              "      <th>no_of_ratings</th>\n",
              "      <th>discount_price</th>\n",
              "      <th>actual_price</th>\n",
              "    </tr>\n",
              "  </thead>\n",
              "  <tbody>\n",
              "    <tr>\n",
              "      <th>190482</th>\n",
              "      <td>Marutivilla Insect Killer, Mosquito Killer Lig...</td>\n",
              "      <td>Marutivilla</td>\n",
              "      <td>home &amp; kitchen</td>\n",
              "      <td>Garden &amp; Outdoors</td>\n",
              "      <td>https://m.media-amazon.com/images/W/IMAGERENDE...</td>\n",
              "      <td>https://www.amazon.in/Marutivilla-Mosquito-Suc...</td>\n",
              "      <td>2.000000</td>\n",
              "      <td>1.0</td>\n",
              "      <td>589.0</td>\n",
              "      <td>9.900000e+09</td>\n",
              "    </tr>\n",
              "    <tr>\n",
              "      <th>390487</th>\n",
              "      <td>Clovia Women's Activewear Ankle Length Printed...</td>\n",
              "      <td>Clovia</td>\n",
              "      <td>sports &amp; fitness</td>\n",
              "      <td>Running</td>\n",
              "      <td>https://m.media-amazon.com/images/I/61ssMT12tF...</td>\n",
              "      <td>https://www.amazon.in/Clovia-Womens-Activewear...</td>\n",
              "      <td>3.200000</td>\n",
              "      <td>4.0</td>\n",
              "      <td>688.0</td>\n",
              "      <td>6.108299e+07</td>\n",
              "    </tr>\n",
              "    <tr>\n",
              "      <th>482581</th>\n",
              "      <td>Samsung 214 cm (85 inches) 8K Ultra HD Smart N...</td>\n",
              "      <td>Samsung</td>\n",
              "      <td>tv, audio &amp; cameras</td>\n",
              "      <td>Televisions</td>\n",
              "      <td>https://m.media-amazon.com/images/I/91RMUYY13V...</td>\n",
              "      <td>https://www.amazon.in/Samsung-Smart-QA85QN800A...</td>\n",
              "      <td>4.000000</td>\n",
              "      <td>10.0</td>\n",
              "      <td>1249990.0</td>\n",
              "      <td>1.594900e+06</td>\n",
              "    </tr>\n",
              "    <tr>\n",
              "      <th>301348</th>\n",
              "      <td>USPTO डायमंड वन स्टोन D Colour Genuine 3 Carat...</td>\n",
              "      <td>USPTO</td>\n",
              "      <td>accessories</td>\n",
              "      <td>Jewellery</td>\n",
              "      <td>https://m.media-amazon.com/images/I/31VTWJnrqs...</td>\n",
              "      <td>https://www.amazon.in/USPTO-Certified-Transpar...</td>\n",
              "      <td>3.768747</td>\n",
              "      <td>0.0</td>\n",
              "      <td>406009.0</td>\n",
              "      <td>1.200000e+06</td>\n",
              "    </tr>\n",
              "    <tr>\n",
              "      <th>323339</th>\n",
              "      <td>USPTO डायमंड वन स्टोन D Colour Genuine 3 Carat...</td>\n",
              "      <td>USPTO</td>\n",
              "      <td>kids' fashion</td>\n",
              "      <td>Kids' Fashion</td>\n",
              "      <td>https://m.media-amazon.com/images/W/IMAGERENDE...</td>\n",
              "      <td>https://www.amazon.in/USPTO-Certified-Transpar...</td>\n",
              "      <td>3.768747</td>\n",
              "      <td>0.0</td>\n",
              "      <td>406009.0</td>\n",
              "      <td>1.200000e+06</td>\n",
              "    </tr>\n",
              "    <tr>\n",
              "      <th>378937</th>\n",
              "      <td>USPTO डायमंड वन स्टोन D Colour Genuine 3 Carat...</td>\n",
              "      <td>USPTO</td>\n",
              "      <td>stores</td>\n",
              "      <td>Men's Fashion</td>\n",
              "      <td>https://m.media-amazon.com/images/I/31VTWJnrqs...</td>\n",
              "      <td>https://www.amazon.in/USPTO-Certified-Transpar...</td>\n",
              "      <td>3.768747</td>\n",
              "      <td>0.0</td>\n",
              "      <td>406009.0</td>\n",
              "      <td>1.200000e+06</td>\n",
              "    </tr>\n",
              "    <tr>\n",
              "      <th>378969</th>\n",
              "      <td>USPTO डायमंड वन स्टोन D Colour Genuine 3 Carat...</td>\n",
              "      <td>USPTO</td>\n",
              "      <td>stores</td>\n",
              "      <td>Men's Fashion</td>\n",
              "      <td>https://m.media-amazon.com/images/I/31VTWJnrqs...</td>\n",
              "      <td>https://www.amazon.in/USPTO-Certified-Transpar...</td>\n",
              "      <td>3.768747</td>\n",
              "      <td>0.0</td>\n",
              "      <td>406009.0</td>\n",
              "      <td>1.200000e+06</td>\n",
              "    </tr>\n",
              "    <tr>\n",
              "      <th>146982</th>\n",
              "      <td>Venus Gems Gallery Real Diamond Ring 2 Carat O...</td>\n",
              "      <td>Venus</td>\n",
              "      <td>accessories</td>\n",
              "      <td>Fashion &amp; Silver Jewellery</td>\n",
              "      <td>https://m.media-amazon.com/images/W/IMAGERENDE...</td>\n",
              "      <td>https://www.amazon.in/Gallery-Diamond-Original...</td>\n",
              "      <td>3.768747</td>\n",
              "      <td>0.0</td>\n",
              "      <td>499999.0</td>\n",
              "      <td>1.000000e+06</td>\n",
              "    </tr>\n",
              "    <tr>\n",
              "      <th>300054</th>\n",
              "      <td>Venus Gems Gallery Real Diamond Ring 2 Carat O...</td>\n",
              "      <td>Venus</td>\n",
              "      <td>accessories</td>\n",
              "      <td>Jewellery</td>\n",
              "      <td>https://m.media-amazon.com/images/W/IMAGERENDE...</td>\n",
              "      <td>https://www.amazon.in/Gallery-Diamond-Original...</td>\n",
              "      <td>3.768747</td>\n",
              "      <td>0.0</td>\n",
              "      <td>499999.0</td>\n",
              "      <td>1.000000e+06</td>\n",
              "    </tr>\n",
              "    <tr>\n",
              "      <th>300188</th>\n",
              "      <td>USPTO 2.85 Carat Real GIA Certifed Diamond Loo...</td>\n",
              "      <td>USPTO</td>\n",
              "      <td>accessories</td>\n",
              "      <td>Jewellery</td>\n",
              "      <td>https://m.media-amazon.com/images/W/IMAGERENDE...</td>\n",
              "      <td>https://www.amazon.in/USPTO-Certifed-StoneBest...</td>\n",
              "      <td>3.768747</td>\n",
              "      <td>0.0</td>\n",
              "      <td>459999.0</td>\n",
              "      <td>9.200000e+05</td>\n",
              "    </tr>\n",
              "  </tbody>\n",
              "</table>\n",
              "</div>\n",
              "      <button class=\"colab-df-convert\" onclick=\"convertToInteractive('df-4cb944e7-cd89-4a27-810a-889cd5835199')\"\n",
              "              title=\"Convert this dataframe to an interactive table.\"\n",
              "              style=\"display:none;\">\n",
              "\n",
              "  <svg xmlns=\"http://www.w3.org/2000/svg\" height=\"24px\"viewBox=\"0 0 24 24\"\n",
              "       width=\"24px\">\n",
              "    <path d=\"M0 0h24v24H0V0z\" fill=\"none\"/>\n",
              "    <path d=\"M18.56 5.44l.94 2.06.94-2.06 2.06-.94-2.06-.94-.94-2.06-.94 2.06-2.06.94zm-11 1L8.5 8.5l.94-2.06 2.06-.94-2.06-.94L8.5 2.5l-.94 2.06-2.06.94zm10 10l.94 2.06.94-2.06 2.06-.94-2.06-.94-.94-2.06-.94 2.06-2.06.94z\"/><path d=\"M17.41 7.96l-1.37-1.37c-.4-.4-.92-.59-1.43-.59-.52 0-1.04.2-1.43.59L10.3 9.45l-7.72 7.72c-.78.78-.78 2.05 0 2.83L4 21.41c.39.39.9.59 1.41.59.51 0 1.02-.2 1.41-.59l7.78-7.78 2.81-2.81c.8-.78.8-2.07 0-2.86zM5.41 20L4 18.59l7.72-7.72 1.47 1.35L5.41 20z\"/>\n",
              "  </svg>\n",
              "      </button>\n",
              "\n",
              "\n",
              "\n",
              "    <div id=\"df-c6cfbee6-bc92-4aa2-a0ea-6753c8088e46\">\n",
              "      <button class=\"colab-df-quickchart\" onclick=\"quickchart('df-c6cfbee6-bc92-4aa2-a0ea-6753c8088e46')\"\n",
              "              title=\"Suggest charts.\"\n",
              "              style=\"display:none;\">\n",
              "\n",
              "<svg xmlns=\"http://www.w3.org/2000/svg\" height=\"24px\"viewBox=\"0 0 24 24\"\n",
              "     width=\"24px\">\n",
              "    <g>\n",
              "        <path d=\"M19 3H5c-1.1 0-2 .9-2 2v14c0 1.1.9 2 2 2h14c1.1 0 2-.9 2-2V5c0-1.1-.9-2-2-2zM9 17H7v-7h2v7zm4 0h-2V7h2v10zm4 0h-2v-4h2v4z\"/>\n",
              "    </g>\n",
              "</svg>\n",
              "      </button>\n",
              "    </div>\n",
              "\n",
              "<style>\n",
              "  .colab-df-quickchart {\n",
              "    background-color: #E8F0FE;\n",
              "    border: none;\n",
              "    border-radius: 50%;\n",
              "    cursor: pointer;\n",
              "    display: none;\n",
              "    fill: #1967D2;\n",
              "    height: 32px;\n",
              "    padding: 0 0 0 0;\n",
              "    width: 32px;\n",
              "  }\n",
              "\n",
              "  .colab-df-quickchart:hover {\n",
              "    background-color: #E2EBFA;\n",
              "    box-shadow: 0px 1px 2px rgba(60, 64, 67, 0.3), 0px 1px 3px 1px rgba(60, 64, 67, 0.15);\n",
              "    fill: #174EA6;\n",
              "  }\n",
              "\n",
              "  [theme=dark] .colab-df-quickchart {\n",
              "    background-color: #3B4455;\n",
              "    fill: #D2E3FC;\n",
              "  }\n",
              "\n",
              "  [theme=dark] .colab-df-quickchart:hover {\n",
              "    background-color: #434B5C;\n",
              "    box-shadow: 0px 1px 3px 1px rgba(0, 0, 0, 0.15);\n",
              "    filter: drop-shadow(0px 1px 2px rgba(0, 0, 0, 0.3));\n",
              "    fill: #FFFFFF;\n",
              "  }\n",
              "</style>\n",
              "\n",
              "    <script>\n",
              "      async function quickchart(key) {\n",
              "        const containerElement = document.querySelector('#' + key);\n",
              "        const charts = await google.colab.kernel.invokeFunction(\n",
              "            'suggestCharts', [key], {});\n",
              "      }\n",
              "    </script>\n",
              "\n",
              "      <script>\n",
              "\n",
              "function displayQuickchartButton(domScope) {\n",
              "  let quickchartButtonEl =\n",
              "    domScope.querySelector('#df-c6cfbee6-bc92-4aa2-a0ea-6753c8088e46 button.colab-df-quickchart');\n",
              "  quickchartButtonEl.style.display =\n",
              "    google.colab.kernel.accessAllowed ? 'block' : 'none';\n",
              "}\n",
              "\n",
              "        displayQuickchartButton(document);\n",
              "      </script>\n",
              "      <style>\n",
              "    .colab-df-container {\n",
              "      display:flex;\n",
              "      flex-wrap:wrap;\n",
              "      gap: 12px;\n",
              "    }\n",
              "\n",
              "    .colab-df-convert {\n",
              "      background-color: #E8F0FE;\n",
              "      border: none;\n",
              "      border-radius: 50%;\n",
              "      cursor: pointer;\n",
              "      display: none;\n",
              "      fill: #1967D2;\n",
              "      height: 32px;\n",
              "      padding: 0 0 0 0;\n",
              "      width: 32px;\n",
              "    }\n",
              "\n",
              "    .colab-df-convert:hover {\n",
              "      background-color: #E2EBFA;\n",
              "      box-shadow: 0px 1px 2px rgba(60, 64, 67, 0.3), 0px 1px 3px 1px rgba(60, 64, 67, 0.15);\n",
              "      fill: #174EA6;\n",
              "    }\n",
              "\n",
              "    [theme=dark] .colab-df-convert {\n",
              "      background-color: #3B4455;\n",
              "      fill: #D2E3FC;\n",
              "    }\n",
              "\n",
              "    [theme=dark] .colab-df-convert:hover {\n",
              "      background-color: #434B5C;\n",
              "      box-shadow: 0px 1px 3px 1px rgba(0, 0, 0, 0.15);\n",
              "      filter: drop-shadow(0px 1px 2px rgba(0, 0, 0, 0.3));\n",
              "      fill: #FFFFFF;\n",
              "    }\n",
              "  </style>\n",
              "\n",
              "      <script>\n",
              "        const buttonEl =\n",
              "          document.querySelector('#df-4cb944e7-cd89-4a27-810a-889cd5835199 button.colab-df-convert');\n",
              "        buttonEl.style.display =\n",
              "          google.colab.kernel.accessAllowed ? 'block' : 'none';\n",
              "\n",
              "        async function convertToInteractive(key) {\n",
              "          const element = document.querySelector('#df-4cb944e7-cd89-4a27-810a-889cd5835199');\n",
              "          const dataTable =\n",
              "            await google.colab.kernel.invokeFunction('convertToInteractive',\n",
              "                                                     [key], {});\n",
              "          if (!dataTable) return;\n",
              "\n",
              "          const docLinkHtml = 'Like what you see? Visit the ' +\n",
              "            '<a target=\"_blank\" href=https://colab.research.google.com/notebooks/data_table.ipynb>data table notebook</a>'\n",
              "            + ' to learn more about interactive tables.';\n",
              "          element.innerHTML = '';\n",
              "          dataTable['output_type'] = 'display_data';\n",
              "          await google.colab.output.renderOutput(dataTable, element);\n",
              "          const docLink = document.createElement('div');\n",
              "          docLink.innerHTML = docLinkHtml;\n",
              "          element.appendChild(docLink);\n",
              "        }\n",
              "      </script>\n",
              "    </div>\n",
              "  </div>\n"
            ]
          },
          "metadata": {},
          "execution_count": 38
        }
      ]
    },
    {
      "cell_type": "code",
      "source": [
        "df.nlargest(10,'actual_price')"
      ],
      "metadata": {
        "colab": {
          "base_uri": "https://localhost:8080/",
          "height": 1000
        },
        "id": "mvhyEWfxinB0",
        "outputId": "81a9c140-85ef-4a12-ce91-ebe1d21d2690"
      },
      "execution_count": null,
      "outputs": [
        {
          "output_type": "execute_result",
          "data": {
            "text/plain": [
              "                                                     name manufacturer  \\\n",
              "122673  Clovia Women's Activewear Ankle Length Printed...       Clovia   \n",
              "171571  Samsung 214 cm (85 inches) 8K Ultra HD Smart N...      Samsung   \n",
              "171419  Sony Bravia 195 cm (77 inches) XR Series 4K Ul...         Sony   \n",
              "171567  Samsung 189 cm (75 inches) 4K Ultra HD Smart N...      Samsung   \n",
              "171424  Sony Bravia 164 cm (65 inches) XR Series 4K Ul...         Sony   \n",
              "171560  Samsung 189 cm (75 inches) The Frame Series 4K...      Samsung   \n",
              "171573  LG 190.5 cm (75 inches) 75SK8000PTA 4K Super U...           LG   \n",
              "31787     XGIMI Aura 4K Ultra Short Throw Laser Projector        XGIMI   \n",
              "171565  LG 164 cm (65 inches) 4K Ultra HD Smart OLED T...           LG   \n",
              "171572  Samsung 163 cm (65 Inches) 4K Ultra HD Smart Q...      Samsung   \n",
              "\n",
              "              main_category                sub_category  \\\n",
              "122673     sports & fitness                     Running   \n",
              "171571  tv, audio & cameras                 Televisions   \n",
              "171419  tv, audio & cameras                 Televisions   \n",
              "171567  tv, audio & cameras                 Televisions   \n",
              "171424  tv, audio & cameras                 Televisions   \n",
              "171560  tv, audio & cameras                 Televisions   \n",
              "171573  tv, audio & cameras                 Televisions   \n",
              "31787   tv, audio & cameras  Home Entertainment Systems   \n",
              "171565  tv, audio & cameras                 Televisions   \n",
              "171572  tv, audio & cameras                 Televisions   \n",
              "\n",
              "                                                    image  \\\n",
              "122673  https://m.media-amazon.com/images/I/61ssMT12tF...   \n",
              "171571  https://m.media-amazon.com/images/I/91RMUYY13V...   \n",
              "171419  https://m.media-amazon.com/images/I/81sFUK4Sv0...   \n",
              "171567  https://m.media-amazon.com/images/I/91b1B9Pjd2...   \n",
              "171424  https://m.media-amazon.com/images/I/81-G4oTdhO...   \n",
              "171560  https://m.media-amazon.com/images/I/91Fag2ehZP...   \n",
              "171573  https://m.media-amazon.com/images/I/91tjctyEfE...   \n",
              "31787   https://m.media-amazon.com/images/I/71sBkcJimq...   \n",
              "171565  https://m.media-amazon.com/images/I/81KDOQqwq0...   \n",
              "171572  https://m.media-amazon.com/images/I/81i3H27E7s...   \n",
              "\n",
              "                                                     link  ratings  \\\n",
              "122673  https://www.amazon.in/Clovia-Womens-Activewear...      3.2   \n",
              "171571  https://www.amazon.in/Samsung-Smart-QA85QN800A...      4.0   \n",
              "171419  https://www.amazon.in/Sony-Bravia-inches-Googl...      4.7   \n",
              "171567  https://www.amazon.in/Samsung-inches-Ultra-Sma...      4.0   \n",
              "171424  https://www.amazon.in/Sony-Bravia-inches-Googl...      4.4   \n",
              "171560  https://www.amazon.in/Samsung-inches-Frame-Sma...      4.1   \n",
              "171573  https://www.amazon.in/LG-190-5-inches-75SK8000...      3.0   \n",
              "31787   https://www.amazon.in/XGIMI-Ultra-Short-Throw-...      5.0   \n",
              "171565  https://www.amazon.in/LG-inches-Ultra-65GXPTA-...      2.7   \n",
              "171572  https://www.amazon.in/Samsung-Inches-Ultra-Sma...      3.4   \n",
              "\n",
              "        no_of_ratings  discount_price  actual_price  \n",
              "122673            4.0           688.0    61082990.0  \n",
              "171571           10.0       1249990.0     1594900.0  \n",
              "171419          439.0        455990.0      699900.0  \n",
              "171567           18.0        409990.0      589900.0  \n",
              "171424           44.0        322990.0      479900.0  \n",
              "171560          844.0        294990.0      424900.0  \n",
              "171573            6.0        292585.0      419990.0  \n",
              "31787             3.0        249990.0      400000.0  \n",
              "171565            5.0        319990.0      399990.0  \n",
              "171572            3.0        299900.0      399900.0  "
            ],
            "text/html": [
              "\n",
              "\n",
              "  <div id=\"df-f6107a7f-cb77-4264-920b-6b965a8b2c93\">\n",
              "    <div class=\"colab-df-container\">\n",
              "      <div>\n",
              "<style scoped>\n",
              "    .dataframe tbody tr th:only-of-type {\n",
              "        vertical-align: middle;\n",
              "    }\n",
              "\n",
              "    .dataframe tbody tr th {\n",
              "        vertical-align: top;\n",
              "    }\n",
              "\n",
              "    .dataframe thead th {\n",
              "        text-align: right;\n",
              "    }\n",
              "</style>\n",
              "<table border=\"1\" class=\"dataframe\">\n",
              "  <thead>\n",
              "    <tr style=\"text-align: right;\">\n",
              "      <th></th>\n",
              "      <th>name</th>\n",
              "      <th>manufacturer</th>\n",
              "      <th>main_category</th>\n",
              "      <th>sub_category</th>\n",
              "      <th>image</th>\n",
              "      <th>link</th>\n",
              "      <th>ratings</th>\n",
              "      <th>no_of_ratings</th>\n",
              "      <th>discount_price</th>\n",
              "      <th>actual_price</th>\n",
              "    </tr>\n",
              "  </thead>\n",
              "  <tbody>\n",
              "    <tr>\n",
              "      <th>122673</th>\n",
              "      <td>Clovia Women's Activewear Ankle Length Printed...</td>\n",
              "      <td>Clovia</td>\n",
              "      <td>sports &amp; fitness</td>\n",
              "      <td>Running</td>\n",
              "      <td>https://m.media-amazon.com/images/I/61ssMT12tF...</td>\n",
              "      <td>https://www.amazon.in/Clovia-Womens-Activewear...</td>\n",
              "      <td>3.2</td>\n",
              "      <td>4.0</td>\n",
              "      <td>688.0</td>\n",
              "      <td>61082990.0</td>\n",
              "    </tr>\n",
              "    <tr>\n",
              "      <th>171571</th>\n",
              "      <td>Samsung 214 cm (85 inches) 8K Ultra HD Smart N...</td>\n",
              "      <td>Samsung</td>\n",
              "      <td>tv, audio &amp; cameras</td>\n",
              "      <td>Televisions</td>\n",
              "      <td>https://m.media-amazon.com/images/I/91RMUYY13V...</td>\n",
              "      <td>https://www.amazon.in/Samsung-Smart-QA85QN800A...</td>\n",
              "      <td>4.0</td>\n",
              "      <td>10.0</td>\n",
              "      <td>1249990.0</td>\n",
              "      <td>1594900.0</td>\n",
              "    </tr>\n",
              "    <tr>\n",
              "      <th>171419</th>\n",
              "      <td>Sony Bravia 195 cm (77 inches) XR Series 4K Ul...</td>\n",
              "      <td>Sony</td>\n",
              "      <td>tv, audio &amp; cameras</td>\n",
              "      <td>Televisions</td>\n",
              "      <td>https://m.media-amazon.com/images/I/81sFUK4Sv0...</td>\n",
              "      <td>https://www.amazon.in/Sony-Bravia-inches-Googl...</td>\n",
              "      <td>4.7</td>\n",
              "      <td>439.0</td>\n",
              "      <td>455990.0</td>\n",
              "      <td>699900.0</td>\n",
              "    </tr>\n",
              "    <tr>\n",
              "      <th>171567</th>\n",
              "      <td>Samsung 189 cm (75 inches) 4K Ultra HD Smart N...</td>\n",
              "      <td>Samsung</td>\n",
              "      <td>tv, audio &amp; cameras</td>\n",
              "      <td>Televisions</td>\n",
              "      <td>https://m.media-amazon.com/images/I/91b1B9Pjd2...</td>\n",
              "      <td>https://www.amazon.in/Samsung-inches-Ultra-Sma...</td>\n",
              "      <td>4.0</td>\n",
              "      <td>18.0</td>\n",
              "      <td>409990.0</td>\n",
              "      <td>589900.0</td>\n",
              "    </tr>\n",
              "    <tr>\n",
              "      <th>171424</th>\n",
              "      <td>Sony Bravia 164 cm (65 inches) XR Series 4K Ul...</td>\n",
              "      <td>Sony</td>\n",
              "      <td>tv, audio &amp; cameras</td>\n",
              "      <td>Televisions</td>\n",
              "      <td>https://m.media-amazon.com/images/I/81-G4oTdhO...</td>\n",
              "      <td>https://www.amazon.in/Sony-Bravia-inches-Googl...</td>\n",
              "      <td>4.4</td>\n",
              "      <td>44.0</td>\n",
              "      <td>322990.0</td>\n",
              "      <td>479900.0</td>\n",
              "    </tr>\n",
              "    <tr>\n",
              "      <th>171560</th>\n",
              "      <td>Samsung 189 cm (75 inches) The Frame Series 4K...</td>\n",
              "      <td>Samsung</td>\n",
              "      <td>tv, audio &amp; cameras</td>\n",
              "      <td>Televisions</td>\n",
              "      <td>https://m.media-amazon.com/images/I/91Fag2ehZP...</td>\n",
              "      <td>https://www.amazon.in/Samsung-inches-Frame-Sma...</td>\n",
              "      <td>4.1</td>\n",
              "      <td>844.0</td>\n",
              "      <td>294990.0</td>\n",
              "      <td>424900.0</td>\n",
              "    </tr>\n",
              "    <tr>\n",
              "      <th>171573</th>\n",
              "      <td>LG 190.5 cm (75 inches) 75SK8000PTA 4K Super U...</td>\n",
              "      <td>LG</td>\n",
              "      <td>tv, audio &amp; cameras</td>\n",
              "      <td>Televisions</td>\n",
              "      <td>https://m.media-amazon.com/images/I/91tjctyEfE...</td>\n",
              "      <td>https://www.amazon.in/LG-190-5-inches-75SK8000...</td>\n",
              "      <td>3.0</td>\n",
              "      <td>6.0</td>\n",
              "      <td>292585.0</td>\n",
              "      <td>419990.0</td>\n",
              "    </tr>\n",
              "    <tr>\n",
              "      <th>31787</th>\n",
              "      <td>XGIMI Aura 4K Ultra Short Throw Laser Projector</td>\n",
              "      <td>XGIMI</td>\n",
              "      <td>tv, audio &amp; cameras</td>\n",
              "      <td>Home Entertainment Systems</td>\n",
              "      <td>https://m.media-amazon.com/images/I/71sBkcJimq...</td>\n",
              "      <td>https://www.amazon.in/XGIMI-Ultra-Short-Throw-...</td>\n",
              "      <td>5.0</td>\n",
              "      <td>3.0</td>\n",
              "      <td>249990.0</td>\n",
              "      <td>400000.0</td>\n",
              "    </tr>\n",
              "    <tr>\n",
              "      <th>171565</th>\n",
              "      <td>LG 164 cm (65 inches) 4K Ultra HD Smart OLED T...</td>\n",
              "      <td>LG</td>\n",
              "      <td>tv, audio &amp; cameras</td>\n",
              "      <td>Televisions</td>\n",
              "      <td>https://m.media-amazon.com/images/I/81KDOQqwq0...</td>\n",
              "      <td>https://www.amazon.in/LG-inches-Ultra-65GXPTA-...</td>\n",
              "      <td>2.7</td>\n",
              "      <td>5.0</td>\n",
              "      <td>319990.0</td>\n",
              "      <td>399990.0</td>\n",
              "    </tr>\n",
              "    <tr>\n",
              "      <th>171572</th>\n",
              "      <td>Samsung 163 cm (65 Inches) 4K Ultra HD Smart Q...</td>\n",
              "      <td>Samsung</td>\n",
              "      <td>tv, audio &amp; cameras</td>\n",
              "      <td>Televisions</td>\n",
              "      <td>https://m.media-amazon.com/images/I/81i3H27E7s...</td>\n",
              "      <td>https://www.amazon.in/Samsung-Inches-Ultra-Sma...</td>\n",
              "      <td>3.4</td>\n",
              "      <td>3.0</td>\n",
              "      <td>299900.0</td>\n",
              "      <td>399900.0</td>\n",
              "    </tr>\n",
              "  </tbody>\n",
              "</table>\n",
              "</div>\n",
              "      <button class=\"colab-df-convert\" onclick=\"convertToInteractive('df-f6107a7f-cb77-4264-920b-6b965a8b2c93')\"\n",
              "              title=\"Convert this dataframe to an interactive table.\"\n",
              "              style=\"display:none;\">\n",
              "\n",
              "  <svg xmlns=\"http://www.w3.org/2000/svg\" height=\"24px\"viewBox=\"0 0 24 24\"\n",
              "       width=\"24px\">\n",
              "    <path d=\"M0 0h24v24H0V0z\" fill=\"none\"/>\n",
              "    <path d=\"M18.56 5.44l.94 2.06.94-2.06 2.06-.94-2.06-.94-.94-2.06-.94 2.06-2.06.94zm-11 1L8.5 8.5l.94-2.06 2.06-.94-2.06-.94L8.5 2.5l-.94 2.06-2.06.94zm10 10l.94 2.06.94-2.06 2.06-.94-2.06-.94-.94-2.06-.94 2.06-2.06.94z\"/><path d=\"M17.41 7.96l-1.37-1.37c-.4-.4-.92-.59-1.43-.59-.52 0-1.04.2-1.43.59L10.3 9.45l-7.72 7.72c-.78.78-.78 2.05 0 2.83L4 21.41c.39.39.9.59 1.41.59.51 0 1.02-.2 1.41-.59l7.78-7.78 2.81-2.81c.8-.78.8-2.07 0-2.86zM5.41 20L4 18.59l7.72-7.72 1.47 1.35L5.41 20z\"/>\n",
              "  </svg>\n",
              "      </button>\n",
              "\n",
              "\n",
              "\n",
              "    <div id=\"df-fe8ae1de-adf6-43ba-9f9c-48abdb199f94\">\n",
              "      <button class=\"colab-df-quickchart\" onclick=\"quickchart('df-fe8ae1de-adf6-43ba-9f9c-48abdb199f94')\"\n",
              "              title=\"Suggest charts.\"\n",
              "              style=\"display:none;\">\n",
              "\n",
              "<svg xmlns=\"http://www.w3.org/2000/svg\" height=\"24px\"viewBox=\"0 0 24 24\"\n",
              "     width=\"24px\">\n",
              "    <g>\n",
              "        <path d=\"M19 3H5c-1.1 0-2 .9-2 2v14c0 1.1.9 2 2 2h14c1.1 0 2-.9 2-2V5c0-1.1-.9-2-2-2zM9 17H7v-7h2v7zm4 0h-2V7h2v10zm4 0h-2v-4h2v4z\"/>\n",
              "    </g>\n",
              "</svg>\n",
              "      </button>\n",
              "    </div>\n",
              "\n",
              "<style>\n",
              "  .colab-df-quickchart {\n",
              "    background-color: #E8F0FE;\n",
              "    border: none;\n",
              "    border-radius: 50%;\n",
              "    cursor: pointer;\n",
              "    display: none;\n",
              "    fill: #1967D2;\n",
              "    height: 32px;\n",
              "    padding: 0 0 0 0;\n",
              "    width: 32px;\n",
              "  }\n",
              "\n",
              "  .colab-df-quickchart:hover {\n",
              "    background-color: #E2EBFA;\n",
              "    box-shadow: 0px 1px 2px rgba(60, 64, 67, 0.3), 0px 1px 3px 1px rgba(60, 64, 67, 0.15);\n",
              "    fill: #174EA6;\n",
              "  }\n",
              "\n",
              "  [theme=dark] .colab-df-quickchart {\n",
              "    background-color: #3B4455;\n",
              "    fill: #D2E3FC;\n",
              "  }\n",
              "\n",
              "  [theme=dark] .colab-df-quickchart:hover {\n",
              "    background-color: #434B5C;\n",
              "    box-shadow: 0px 1px 3px 1px rgba(0, 0, 0, 0.15);\n",
              "    filter: drop-shadow(0px 1px 2px rgba(0, 0, 0, 0.3));\n",
              "    fill: #FFFFFF;\n",
              "  }\n",
              "</style>\n",
              "\n",
              "    <script>\n",
              "      async function quickchart(key) {\n",
              "        const containerElement = document.querySelector('#' + key);\n",
              "        const charts = await google.colab.kernel.invokeFunction(\n",
              "            'suggestCharts', [key], {});\n",
              "      }\n",
              "    </script>\n",
              "\n",
              "      <script>\n",
              "\n",
              "function displayQuickchartButton(domScope) {\n",
              "  let quickchartButtonEl =\n",
              "    domScope.querySelector('#df-fe8ae1de-adf6-43ba-9f9c-48abdb199f94 button.colab-df-quickchart');\n",
              "  quickchartButtonEl.style.display =\n",
              "    google.colab.kernel.accessAllowed ? 'block' : 'none';\n",
              "}\n",
              "\n",
              "        displayQuickchartButton(document);\n",
              "      </script>\n",
              "      <style>\n",
              "    .colab-df-container {\n",
              "      display:flex;\n",
              "      flex-wrap:wrap;\n",
              "      gap: 12px;\n",
              "    }\n",
              "\n",
              "    .colab-df-convert {\n",
              "      background-color: #E8F0FE;\n",
              "      border: none;\n",
              "      border-radius: 50%;\n",
              "      cursor: pointer;\n",
              "      display: none;\n",
              "      fill: #1967D2;\n",
              "      height: 32px;\n",
              "      padding: 0 0 0 0;\n",
              "      width: 32px;\n",
              "    }\n",
              "\n",
              "    .colab-df-convert:hover {\n",
              "      background-color: #E2EBFA;\n",
              "      box-shadow: 0px 1px 2px rgba(60, 64, 67, 0.3), 0px 1px 3px 1px rgba(60, 64, 67, 0.15);\n",
              "      fill: #174EA6;\n",
              "    }\n",
              "\n",
              "    [theme=dark] .colab-df-convert {\n",
              "      background-color: #3B4455;\n",
              "      fill: #D2E3FC;\n",
              "    }\n",
              "\n",
              "    [theme=dark] .colab-df-convert:hover {\n",
              "      background-color: #434B5C;\n",
              "      box-shadow: 0px 1px 3px 1px rgba(0, 0, 0, 0.15);\n",
              "      filter: drop-shadow(0px 1px 2px rgba(0, 0, 0, 0.3));\n",
              "      fill: #FFFFFF;\n",
              "    }\n",
              "  </style>\n",
              "\n",
              "      <script>\n",
              "        const buttonEl =\n",
              "          document.querySelector('#df-f6107a7f-cb77-4264-920b-6b965a8b2c93 button.colab-df-convert');\n",
              "        buttonEl.style.display =\n",
              "          google.colab.kernel.accessAllowed ? 'block' : 'none';\n",
              "\n",
              "        async function convertToInteractive(key) {\n",
              "          const element = document.querySelector('#df-f6107a7f-cb77-4264-920b-6b965a8b2c93');\n",
              "          const dataTable =\n",
              "            await google.colab.kernel.invokeFunction('convertToInteractive',\n",
              "                                                     [key], {});\n",
              "          if (!dataTable) return;\n",
              "\n",
              "          const docLinkHtml = 'Like what you see? Visit the ' +\n",
              "            '<a target=\"_blank\" href=https://colab.research.google.com/notebooks/data_table.ipynb>data table notebook</a>'\n",
              "            + ' to learn more about interactive tables.';\n",
              "          element.innerHTML = '';\n",
              "          dataTable['output_type'] = 'display_data';\n",
              "          await google.colab.output.renderOutput(dataTable, element);\n",
              "          const docLink = document.createElement('div');\n",
              "          docLink.innerHTML = docLinkHtml;\n",
              "          element.appendChild(docLink);\n",
              "        }\n",
              "      </script>\n",
              "    </div>\n",
              "  </div>\n"
            ]
          },
          "metadata": {},
          "execution_count": 35
        }
      ]
    },
    {
      "cell_type": "markdown",
      "source": [
        "We can see an inconsistancy between the first product's actual price and discount price.\n",
        "\n",
        "Let's remove that row."
      ],
      "metadata": {
        "id": "CY7gorePjBup"
      }
    },
    {
      "cell_type": "code",
      "source": [
        "df = df.drop([122673], axis=0).reset_index(drop=True)"
      ],
      "metadata": {
        "id": "SiTEDybQiqpc"
      },
      "execution_count": 39,
      "outputs": []
    },
    {
      "cell_type": "markdown",
      "source": [
        "**Top 10 most popular manufacturers**"
      ],
      "metadata": {
        "id": "7vaImaZHy4SR"
      }
    },
    {
      "cell_type": "code",
      "source": [
        "#use the groupby function\n",
        "top_manufacturer = df.groupby('manufacturer',as_index=False).size().sort_values('size',ascending=False)\n",
        "top_manufacturer.head(10)"
      ],
      "metadata": {
        "colab": {
          "base_uri": "https://localhost:8080/",
          "height": 363
        },
        "id": "Idc2Niv0y7rh",
        "outputId": "66c5c016-0f80-43b9-e0c1-4cb6a2fe3a83"
      },
      "execution_count": 41,
      "outputs": [
        {
          "output_type": "execute_result",
          "data": {
            "text/plain": [
              "      manufacturer  size\n",
              "29148           PC  5821\n",
              "31163         Puma  4638\n",
              "36860      Shopnet  4259\n",
              "3442        Amazon  3618\n",
              "40744         U.S.  2993\n",
              "39942          The  2988\n",
              "4537         Avsar  2907\n",
              "27659         Nike  2903\n",
              "26868      NEUTRON  2852\n",
              "25719        Men's  2616"
            ],
            "text/html": [
              "\n",
              "\n",
              "  <div id=\"df-055a660a-24d1-4a56-bc20-c422d84a3058\">\n",
              "    <div class=\"colab-df-container\">\n",
              "      <div>\n",
              "<style scoped>\n",
              "    .dataframe tbody tr th:only-of-type {\n",
              "        vertical-align: middle;\n",
              "    }\n",
              "\n",
              "    .dataframe tbody tr th {\n",
              "        vertical-align: top;\n",
              "    }\n",
              "\n",
              "    .dataframe thead th {\n",
              "        text-align: right;\n",
              "    }\n",
              "</style>\n",
              "<table border=\"1\" class=\"dataframe\">\n",
              "  <thead>\n",
              "    <tr style=\"text-align: right;\">\n",
              "      <th></th>\n",
              "      <th>manufacturer</th>\n",
              "      <th>size</th>\n",
              "    </tr>\n",
              "  </thead>\n",
              "  <tbody>\n",
              "    <tr>\n",
              "      <th>29148</th>\n",
              "      <td>PC</td>\n",
              "      <td>5821</td>\n",
              "    </tr>\n",
              "    <tr>\n",
              "      <th>31163</th>\n",
              "      <td>Puma</td>\n",
              "      <td>4638</td>\n",
              "    </tr>\n",
              "    <tr>\n",
              "      <th>36860</th>\n",
              "      <td>Shopnet</td>\n",
              "      <td>4259</td>\n",
              "    </tr>\n",
              "    <tr>\n",
              "      <th>3442</th>\n",
              "      <td>Amazon</td>\n",
              "      <td>3618</td>\n",
              "    </tr>\n",
              "    <tr>\n",
              "      <th>40744</th>\n",
              "      <td>U.S.</td>\n",
              "      <td>2993</td>\n",
              "    </tr>\n",
              "    <tr>\n",
              "      <th>39942</th>\n",
              "      <td>The</td>\n",
              "      <td>2988</td>\n",
              "    </tr>\n",
              "    <tr>\n",
              "      <th>4537</th>\n",
              "      <td>Avsar</td>\n",
              "      <td>2907</td>\n",
              "    </tr>\n",
              "    <tr>\n",
              "      <th>27659</th>\n",
              "      <td>Nike</td>\n",
              "      <td>2903</td>\n",
              "    </tr>\n",
              "    <tr>\n",
              "      <th>26868</th>\n",
              "      <td>NEUTRON</td>\n",
              "      <td>2852</td>\n",
              "    </tr>\n",
              "    <tr>\n",
              "      <th>25719</th>\n",
              "      <td>Men's</td>\n",
              "      <td>2616</td>\n",
              "    </tr>\n",
              "  </tbody>\n",
              "</table>\n",
              "</div>\n",
              "      <button class=\"colab-df-convert\" onclick=\"convertToInteractive('df-055a660a-24d1-4a56-bc20-c422d84a3058')\"\n",
              "              title=\"Convert this dataframe to an interactive table.\"\n",
              "              style=\"display:none;\">\n",
              "\n",
              "  <svg xmlns=\"http://www.w3.org/2000/svg\" height=\"24px\"viewBox=\"0 0 24 24\"\n",
              "       width=\"24px\">\n",
              "    <path d=\"M0 0h24v24H0V0z\" fill=\"none\"/>\n",
              "    <path d=\"M18.56 5.44l.94 2.06.94-2.06 2.06-.94-2.06-.94-.94-2.06-.94 2.06-2.06.94zm-11 1L8.5 8.5l.94-2.06 2.06-.94-2.06-.94L8.5 2.5l-.94 2.06-2.06.94zm10 10l.94 2.06.94-2.06 2.06-.94-2.06-.94-.94-2.06-.94 2.06-2.06.94z\"/><path d=\"M17.41 7.96l-1.37-1.37c-.4-.4-.92-.59-1.43-.59-.52 0-1.04.2-1.43.59L10.3 9.45l-7.72 7.72c-.78.78-.78 2.05 0 2.83L4 21.41c.39.39.9.59 1.41.59.51 0 1.02-.2 1.41-.59l7.78-7.78 2.81-2.81c.8-.78.8-2.07 0-2.86zM5.41 20L4 18.59l7.72-7.72 1.47 1.35L5.41 20z\"/>\n",
              "  </svg>\n",
              "      </button>\n",
              "\n",
              "\n",
              "\n",
              "    <div id=\"df-fc0e101e-57ef-4ce5-add8-98618308a023\">\n",
              "      <button class=\"colab-df-quickchart\" onclick=\"quickchart('df-fc0e101e-57ef-4ce5-add8-98618308a023')\"\n",
              "              title=\"Suggest charts.\"\n",
              "              style=\"display:none;\">\n",
              "\n",
              "<svg xmlns=\"http://www.w3.org/2000/svg\" height=\"24px\"viewBox=\"0 0 24 24\"\n",
              "     width=\"24px\">\n",
              "    <g>\n",
              "        <path d=\"M19 3H5c-1.1 0-2 .9-2 2v14c0 1.1.9 2 2 2h14c1.1 0 2-.9 2-2V5c0-1.1-.9-2-2-2zM9 17H7v-7h2v7zm4 0h-2V7h2v10zm4 0h-2v-4h2v4z\"/>\n",
              "    </g>\n",
              "</svg>\n",
              "      </button>\n",
              "    </div>\n",
              "\n",
              "<style>\n",
              "  .colab-df-quickchart {\n",
              "    background-color: #E8F0FE;\n",
              "    border: none;\n",
              "    border-radius: 50%;\n",
              "    cursor: pointer;\n",
              "    display: none;\n",
              "    fill: #1967D2;\n",
              "    height: 32px;\n",
              "    padding: 0 0 0 0;\n",
              "    width: 32px;\n",
              "  }\n",
              "\n",
              "  .colab-df-quickchart:hover {\n",
              "    background-color: #E2EBFA;\n",
              "    box-shadow: 0px 1px 2px rgba(60, 64, 67, 0.3), 0px 1px 3px 1px rgba(60, 64, 67, 0.15);\n",
              "    fill: #174EA6;\n",
              "  }\n",
              "\n",
              "  [theme=dark] .colab-df-quickchart {\n",
              "    background-color: #3B4455;\n",
              "    fill: #D2E3FC;\n",
              "  }\n",
              "\n",
              "  [theme=dark] .colab-df-quickchart:hover {\n",
              "    background-color: #434B5C;\n",
              "    box-shadow: 0px 1px 3px 1px rgba(0, 0, 0, 0.15);\n",
              "    filter: drop-shadow(0px 1px 2px rgba(0, 0, 0, 0.3));\n",
              "    fill: #FFFFFF;\n",
              "  }\n",
              "</style>\n",
              "\n",
              "    <script>\n",
              "      async function quickchart(key) {\n",
              "        const containerElement = document.querySelector('#' + key);\n",
              "        const charts = await google.colab.kernel.invokeFunction(\n",
              "            'suggestCharts', [key], {});\n",
              "      }\n",
              "    </script>\n",
              "\n",
              "      <script>\n",
              "\n",
              "function displayQuickchartButton(domScope) {\n",
              "  let quickchartButtonEl =\n",
              "    domScope.querySelector('#df-fc0e101e-57ef-4ce5-add8-98618308a023 button.colab-df-quickchart');\n",
              "  quickchartButtonEl.style.display =\n",
              "    google.colab.kernel.accessAllowed ? 'block' : 'none';\n",
              "}\n",
              "\n",
              "        displayQuickchartButton(document);\n",
              "      </script>\n",
              "      <style>\n",
              "    .colab-df-container {\n",
              "      display:flex;\n",
              "      flex-wrap:wrap;\n",
              "      gap: 12px;\n",
              "    }\n",
              "\n",
              "    .colab-df-convert {\n",
              "      background-color: #E8F0FE;\n",
              "      border: none;\n",
              "      border-radius: 50%;\n",
              "      cursor: pointer;\n",
              "      display: none;\n",
              "      fill: #1967D2;\n",
              "      height: 32px;\n",
              "      padding: 0 0 0 0;\n",
              "      width: 32px;\n",
              "    }\n",
              "\n",
              "    .colab-df-convert:hover {\n",
              "      background-color: #E2EBFA;\n",
              "      box-shadow: 0px 1px 2px rgba(60, 64, 67, 0.3), 0px 1px 3px 1px rgba(60, 64, 67, 0.15);\n",
              "      fill: #174EA6;\n",
              "    }\n",
              "\n",
              "    [theme=dark] .colab-df-convert {\n",
              "      background-color: #3B4455;\n",
              "      fill: #D2E3FC;\n",
              "    }\n",
              "\n",
              "    [theme=dark] .colab-df-convert:hover {\n",
              "      background-color: #434B5C;\n",
              "      box-shadow: 0px 1px 3px 1px rgba(0, 0, 0, 0.15);\n",
              "      filter: drop-shadow(0px 1px 2px rgba(0, 0, 0, 0.3));\n",
              "      fill: #FFFFFF;\n",
              "    }\n",
              "  </style>\n",
              "\n",
              "      <script>\n",
              "        const buttonEl =\n",
              "          document.querySelector('#df-055a660a-24d1-4a56-bc20-c422d84a3058 button.colab-df-convert');\n",
              "        buttonEl.style.display =\n",
              "          google.colab.kernel.accessAllowed ? 'block' : 'none';\n",
              "\n",
              "        async function convertToInteractive(key) {\n",
              "          const element = document.querySelector('#df-055a660a-24d1-4a56-bc20-c422d84a3058');\n",
              "          const dataTable =\n",
              "            await google.colab.kernel.invokeFunction('convertToInteractive',\n",
              "                                                     [key], {});\n",
              "          if (!dataTable) return;\n",
              "\n",
              "          const docLinkHtml = 'Like what you see? Visit the ' +\n",
              "            '<a target=\"_blank\" href=https://colab.research.google.com/notebooks/data_table.ipynb>data table notebook</a>'\n",
              "            + ' to learn more about interactive tables.';\n",
              "          element.innerHTML = '';\n",
              "          dataTable['output_type'] = 'display_data';\n",
              "          await google.colab.output.renderOutput(dataTable, element);\n",
              "          const docLink = document.createElement('div');\n",
              "          docLink.innerHTML = docLinkHtml;\n",
              "          element.appendChild(docLink);\n",
              "        }\n",
              "      </script>\n",
              "    </div>\n",
              "  </div>\n"
            ]
          },
          "metadata": {},
          "execution_count": 41
        }
      ]
    },
    {
      "cell_type": "markdown",
      "source": [
        "Now, let us store this cleaned dataset in a excel file and then use it for Exploratory Data Analysis."
      ],
      "metadata": {
        "id": "8LBy54P7zwzO"
      }
    },
    {
      "cell_type": "code",
      "source": [
        "# writing to Excel\n",
        "datatoexcel = pd.ExcelWriter('Amazon_Data.xlsx')"
      ],
      "metadata": {
        "id": "nY8OPuyZzvoq"
      },
      "execution_count": 42,
      "outputs": []
    },
    {
      "cell_type": "code",
      "source": [
        "# write DataFrame to excel\n",
        "df.to_excel(datatoexcel)"
      ],
      "metadata": {
        "id": "mO9wsb2Gz7-f"
      },
      "execution_count": 43,
      "outputs": []
    },
    {
      "cell_type": "code",
      "source": [
        "# save the excel\n",
        "datatoexcel.save()"
      ],
      "metadata": {
        "colab": {
          "base_uri": "https://localhost:8080/"
        },
        "id": "cmn63h220Ei3",
        "outputId": "66c2ae69-207e-4395-b37d-e0e7e2d1bc64"
      },
      "execution_count": 44,
      "outputs": [
        {
          "output_type": "stream",
          "name": "stderr",
          "text": [
            "<ipython-input-44-8066d640c5d3>:2: FutureWarning: save is not part of the public API, usage can give unexpected results and will be removed in a future version\n",
            "  datatoexcel.save()\n"
          ]
        }
      ]
    }
  ]
}